{
 "cells": [
  {
   "cell_type": "markdown",
   "metadata": {},
   "source": [
    "# 1 矩阵运算\n",
    "\n",
    "## 1.1 创建一个 4*4 的单位矩阵"
   ]
  },
  {
   "cell_type": "code",
   "execution_count": 1,
   "metadata": {
    "collapsed": true
   },
   "outputs": [],
   "source": [
    "# 这个项目设计来帮你熟悉 python range 和线性代数\n",
    "# 你不能调用任何python库，包括NumPy，来完成作业\n",
    "\n",
    "A = [[1,2,3], \n",
    "     [2,3,3], \n",
    "     [1,2,5]]\n",
    "\n",
    "B = [[1,2,3,5], \n",
    "     [2,3,3,5], \n",
    "     [1,2,5,1]]\n",
    "\n",
    "#TODO 创建一个 4*4 的单位矩阵\n",
    "I =  [ [ 0 for i in range(4)] for j in range(4) ]\n",
    "for i in range(4):\n",
    "    for j in range(4):\n",
    "        if i==j:\n",
    "            I[i][j]=1"
   ]
  },
  {
   "cell_type": "markdown",
   "metadata": {},
   "source": [
    "## 1.2 返回矩阵的行数和列数"
   ]
  },
  {
   "cell_type": "code",
   "execution_count": 2,
   "metadata": {
    "collapsed": true
   },
   "outputs": [],
   "source": [
    "# TODO 返回矩阵的行数和列数\n",
    "def shape(M):\n",
    "    row = len(M)\n",
    "    column = len(M[0])\n",
    "    return row,column"
   ]
  },
  {
   "cell_type": "markdown",
   "metadata": {},
   "source": [
    "## 1.3 每个元素四舍五入到特定小数数位"
   ]
  },
  {
   "cell_type": "code",
   "execution_count": 3,
   "metadata": {
    "collapsed": true
   },
   "outputs": [],
   "source": [
    "# TODO 每个元素四舍五入到特定小数数位\n",
    "# 直接修改参数矩阵，无返回值\n",
    "def matxRound(M, decPts=4):\n",
    "    for i in range(shape(M)[0]):\n",
    "        for j in range(shape(M)[1]):\n",
    "            M[i][j]=round(M[i][j],decPts)"
   ]
  },
  {
   "cell_type": "markdown",
   "metadata": {},
   "source": [
    "## 1.4 计算矩阵的转置"
   ]
  },
  {
   "cell_type": "code",
   "execution_count": 4,
   "metadata": {
    "collapsed": false
   },
   "outputs": [
    {
     "name": "stdout",
     "output_type": "stream",
     "text": [
      "[[1, 2, 1], [2, 3, 2], [3, 3, 5]]\n"
     ]
    }
   ],
   "source": [
    "# TODO 计算矩阵的转置\n",
    "def transpose(M):\n",
    "# 方法1.使用zip函数\n",
    "# 先用zip函数得到“行列互换”的效果，\n",
    "# 再通过map函数对每个元素应用list()函数，将里面的tuple转换为list\n",
    "\n",
    "# Python 内置的高阶函数map(func, seq1[, seq2,…])\n",
    "# map()函数将func作用于seq中的每一个元素，\n",
    "# 并将所有的调用的结果作为一个list返回。\n",
    "# 此例map()接收一个函数list（）和一个 list，\n",
    "# 过把list（）依次作用在list的每个元素上，得到一个新的list并返回。\n",
    "    W = map(list,zip(*M))\n",
    "    \n",
    "# 或者用列表推导式如下表达:\n",
    "# 通过列表推导式（list comprehensions），对每个元素应用list()函数，将里面的tuple转换为list\n",
    "#    return [list(col) for col in zip(*M)]\n",
    "    \n",
    "# 方法2.使用numpy库\n",
    "#   W=M.T \n",
    "\n",
    "# 方法3.参考\n",
    "# 多次调用shape函数，导致效率不高\n",
    "#    W =  [ [ 0 for i in range(shape(M)[0]) ] for j in range(shape(M)[1]) ]\n",
    "#    for i in range(shape(M)[0]):\n",
    "#        for j in range(shape(M)[1]):\n",
    "#            W[j][i]=M[i][j]\n",
    "    return W\n",
    "\n",
    "print transpose(A)"
   ]
  },
  {
   "cell_type": "markdown",
   "metadata": {},
   "source": [
    "### zip()函数的理解"
   ]
  },
  {
   "cell_type": "code",
   "execution_count": 5,
   "metadata": {
    "collapsed": false
   },
   "outputs": [
    {
     "name": "stdout",
     "output_type": "stream",
     "text": [
      "[([1, 2, 3],), ([2, 3, 3],), ([1, 2, 5],)]\n"
     ]
    }
   ],
   "source": [
    "def ziptest(M):\n",
    "#zip函数接受任意多个（包括0个和1个）序列作为参数，返回的是一个tuple（元组），然后返回由这些tuples组成的list（列表）\n",
    "    return zip(M)\n",
    "\n",
    "print ziptest(A)"
   ]
  },
  {
   "cell_type": "code",
   "execution_count": 6,
   "metadata": {
    "collapsed": false
   },
   "outputs": [
    {
     "name": "stdout",
     "output_type": "stream",
     "text": [
      "[(1, 2, 1), (2, 3, 2), (3, 3, 5)]\n"
     ]
    }
   ],
   "source": [
    "def transpose(M):\n",
    "# *M表示将M列表中的元素来zip，当M列表中存的是列表元素时，就是将列表元素来zip\n",
    "# zip(*M)这里相当于zip([1,2,3],[4,5,6],[7,8,9])\n",
    "    return zip(*M)\n",
    "    \n",
    "print transpose(A)"
   ]
  },
  {
   "cell_type": "markdown",
   "metadata": {},
   "source": [
    "### 比较实现之间的性能差距"
   ]
  },
  {
   "cell_type": "code",
   "execution_count": 7,
   "metadata": {
    "collapsed": false
   },
   "outputs": [
    {
     "name": "stdout",
     "output_type": "stream",
     "text": [
      "         80005 function calls in 0.432 seconds\n",
      "\n",
      "   Ordered by: standard name\n",
      "\n",
      "   ncalls  tottime  percall  cumtime  percall filename:lineno(function)\n",
      "    10000    0.040    0.000    0.040    0.000 :0(map)\n",
      "    20000    0.096    0.000    0.096    0.000 :0(randint)\n",
      "        1    0.000    0.000    0.000    0.000 :0(range)\n",
      "        1    0.000    0.000    0.000    0.000 :0(setprofile)\n",
      "    10000    0.045    0.000    0.045    0.000 :0(tolist)\n",
      "    20000    0.061    0.000    0.061    0.000 :0(zip)\n",
      "    10000    0.028    0.000    0.100    0.000 <ipython-input-7-63880ca7cc14>:11(transpose_student_2)\n",
      "    10000    0.062    0.000    0.092    0.000 <ipython-input-7-63880ca7cc14>:14(transpose_pythonic)\n",
      "        1    0.099    0.099    0.432    0.432 <ipython-input-7-63880ca7cc14>:17(test)\n",
      "        1    0.000    0.000    0.432    0.432 <string>:1(<module>)\n",
      "        0    0.000             0.000          profile:0(profiler)\n",
      "        1    0.000    0.000    0.432    0.432 profile:0(test(times=10000))\n",
      "\n",
      "\n"
     ]
    }
   ],
   "source": [
    "import numpy as np\n",
    "import profile\n",
    "\n",
    "# def transpose_student_1(M):\n",
    "#     # 多次调用shape函数，导致效率不高\n",
    "#     W =  [ [ 0 for i in range(shape(M)[0]) ] for j in range(shape(M)[1]) ]\n",
    "#     for i in range(shape(M)[0]):\n",
    "#         for j in range(shape(M)[1]):\n",
    "#             W[j][i]=M[i][j]\n",
    "\n",
    "def transpose_student_2(M):\n",
    "    W = map(list,zip(*M))\n",
    "\n",
    "def transpose_pythonic(M):\n",
    "    return [list(col) for col in zip(*M)]\n",
    "\n",
    "def test(times=10000):\n",
    "    for t in range(times):\n",
    "        r,c = np.random.randint(5,25,2)\n",
    "        matrix = np.random.randint(-10,11,size=(r,c)).tolist()\n",
    "\n",
    "        transpose_student_2(matrix)        \n",
    "        transpose_pythonic(matrix)\n",
    "\n",
    "if __name__ == '__main__':\n",
    "    # 你可以修改测试的次数以获得更明显的耗时对比\n",
    "    profile.run(\"test(times=10000)\")"
   ]
  },
  {
   "cell_type": "markdown",
   "metadata": {},
   "source": [
    "对比；\n",
    "\n",
    " transpose_student_2耗时\n",
    " \n",
    " transpose_pythonic耗时\n",
    " \n",
    " 最后一行：总耗时"
   ]
  },
  {
   "cell_type": "markdown",
   "metadata": {},
   "source": [
    "## 1.5 计算矩阵乘法 AB"
   ]
  },
  {
   "cell_type": "code",
   "execution_count": 8,
   "metadata": {
    "collapsed": false
   },
   "outputs": [
    {
     "name": "stdout",
     "output_type": "stream",
     "text": [
      "A矩阵与B矩阵相乘为:\n",
      "[[8, 14, 24, 18], [11, 19, 30, 28], [10, 18, 34, 20]]\n"
     ]
    }
   ],
   "source": [
    "# TODO 计算矩阵乘法 AB，如果无法相乘则返回None\n",
    "# def matxMultiply(A, B):\n",
    "#     W =  [ [ 0 for i in range(shape(B)[1]) ] for j in range(shape(A)[0])]\n",
    "#     if shape(A)[1]==shape(B)[0]:\n",
    "#         k=shape(A)[1]\n",
    "#         for ai in range(shape(A)[0]):\n",
    "#             for bj in range(shape(B)[1]):\n",
    "#                 for kk in range(k):\n",
    "#                     W[ai][bj]+=A[ai][kk]*B[kk][bj]\n",
    "#         return W\n",
    "#     else:\n",
    "#         return None\n",
    "\n",
    "#循环写太深会造成代码的可读性变差，你可以考虑利用sum函数取代最内层的循环。\n",
    "#https://python3-cookbook.readthedocs.io/zh_CN/latest/c01/p19_transform_and_reduce_data_same_time.html\n",
    "#可能会在改写的过程中发现难以（优雅地）获得矩阵B的列，这里的小诀窍是先将矩阵B转置。\n",
    "#如果还想进一步压缩代码量，可以将剩下的两层循环用列表推导式替代。\n",
    "#推荐\n",
    "def matxMultiply(A,B):\n",
    "    _, c = shape(A)\n",
    "    r, _ = shape(B)\n",
    "    if c != r :\n",
    "        return None\n",
    "    Bt = transpose(B)\n",
    "    result = [[sum((a*b) for a,b in zip(row,col)) for col in Bt] for row in A]\n",
    "    return result\n",
    "\n",
    "print \"A矩阵与B矩阵相乘为:\" \n",
    "print matxMultiply(A,B)"
   ]
  },
  {
   "cell_type": "markdown",
   "metadata": {},
   "source": [
    "## 1.6 测试你的函数是否实现正确"
   ]
  },
  {
   "cell_type": "markdown",
   "metadata": {},
   "source": [
    "**提示：** 你可以用`from pprint import pprint`来更漂亮的打印数据，详见[用法示例](http://cn-static.udacity.com/mlnd/images/pprint.png)和[文档说明](https://docs.python.org/2/library/pprint.html#pprint.pprint)。"
   ]
  },
  {
   "cell_type": "code",
   "execution_count": 9,
   "metadata": {
    "collapsed": false
   },
   "outputs": [
    {
     "name": "stdout",
     "output_type": "stream",
     "text": [
      "(4, 3)\n",
      "[[6.12, 5.12],\n",
      " [4.12, 3.12],\n",
      " [2.12, 1.12]]\n",
      "[(1, 4), (4, 6), (3, 9), (2, 3)]\n",
      "[[9, 12, 15, 18],\n",
      " [19, 26, 33, 40],\n",
      " [29, 40, 51, 62],\n",
      " [39, 54, 69, 84],\n",
      " [17, 28, 39, 50]]\n",
      "None\n"
     ]
    }
   ],
   "source": [
    "import pprint\n",
    "pp=pprint.PrettyPrinter(indent=1,width=40)\n",
    "\n",
    "#assert断言用法： 如果代码是正确的，那么就不会产生任何结果；反之，Python会抛出断言错误\n",
    "\n",
    "#TODO 测试1.2 返回矩阵的行和列\n",
    "M=[[1,1,1],[2,2,2],[3,3,3],[4,4,4]]\n",
    "assert shape(M) == (4, 3)\n",
    "pp.pprint(shape(M))\n",
    "\n",
    "#TODO 测试1.3 每个元素四舍五入到特定小数数位\n",
    "M=[[6.123456,5.123456],[4.123456,3.123456],[2.123456,1.123456]]\n",
    "matxRound(M,2)\n",
    "assert M == [[6.12, 5.12],[4.12, 3.12],[2.12, 1.12]]\n",
    "pp.pprint(M)\n",
    "\n",
    "#TODO 测试1.4 计算矩阵的转置\n",
    "M=[[1,4,3,2],[4,6,9,3]]\n",
    "assert transpose(M) == [(1, 4), (4, 6), (3, 9), (2, 3)]\n",
    "pp.pprint(transpose(M))\n",
    "\n",
    "#TODO 测试1.5 计算矩阵乘法AB，AB可以相乘\n",
    "A=[[1,2],[3,4],[5,6],[7,8],[9,2]]\n",
    "B=[[1,2,3,4],[4,5,6,7]]\n",
    "assert matxMultiply(A,B)==[[9, 12, 15, 18], [19, 26, 33, 40],[29, 40, 51, 62],[39, 54, 69, 84],[17, 28, 39, 50]]\n",
    "pp.pprint(matxMultiply(A,B))\n",
    "\n",
    "#TODO 测试1.5 计算矩阵乘法AB，AB无法相乘\n",
    "A=[[1,2,3],[1,2,3],[1,2,3],[1,2,3],[1,2,3]]\n",
    "B=[[1,2,3,4],[1,2,3,4]]\n",
    "pp.pprint(matxMultiply(A,B))"
   ]
  },
  {
   "cell_type": "markdown",
   "metadata": {},
   "source": [
    "# 2 Gaussign Jordan 消元法\n",
    "\n",
    "## 2.1 构造增广矩阵\n",
    "\n",
    "$ A = \\begin{bmatrix}\n",
    "    a_{11}    & a_{12} & ... & a_{1n}\\\\\n",
    "    a_{21}    & a_{22} & ... & a_{2n}\\\\\n",
    "    a_{31}    & a_{22} & ... & a_{3n}\\\\\n",
    "    ...    & ... & ... & ...\\\\\n",
    "    a_{n1}    & a_{n2} & ... & a_{nn}\\\\\n",
    "\\end{bmatrix} , b = \\begin{bmatrix}\n",
    "    b_{1}  \\\\\n",
    "    b_{2}  \\\\\n",
    "    b_{3}  \\\\\n",
    "    ...    \\\\\n",
    "    b_{n}  \\\\\n",
    "\\end{bmatrix}$\n",
    "\n",
    "返回 $ Ab = \\begin{bmatrix}\n",
    "    a_{11}    & a_{12} & ... & a_{1n} & b_{1}\\\\\n",
    "    a_{21}    & a_{22} & ... & a_{2n} & b_{2}\\\\\n",
    "    a_{31}    & a_{22} & ... & a_{3n} & b_{3}\\\\\n",
    "    ...    & ... & ... & ...& ...\\\\\n",
    "    a_{n1}    & a_{n2} & ... & a_{nn} & b_{n} \\end{bmatrix}$"
   ]
  },
  {
   "cell_type": "code",
   "execution_count": 10,
   "metadata": {
    "collapsed": false
   },
   "outputs": [
    {
     "name": "stdout",
     "output_type": "stream",
     "text": [
      "[[1, 2, 3, 7],\n",
      " [2, 3, 3, 8],\n",
      " [1, 2, 5, 9]]\n"
     ]
    }
   ],
   "source": [
    "import copy\n",
    "\n",
    "# TODO 构造增广矩阵，假设A，b行数相同\n",
    "# def augmentMatrix(A, b):\n",
    "#     for i in range(shape(A)[0]):\n",
    "#         A[i].append(b[i][0])\n",
    "#     return A\n",
    "\n",
    "def augmentMatrix(A, b):\n",
    "    B = copy.deepcopy(A)\n",
    "    for i in range(shape(B)[0]):\n",
    "        B[i].append(b[i][0])\n",
    "    return B\n",
    "\n",
    "A = [[1,2,3], \n",
    "     [2,3,3], \n",
    "     [1,2,5]]\n",
    "\n",
    "b=[[7],[8],[9]]\n",
    "\n",
    "pp.pprint(augmentMatrix(A,b))"
   ]
  },
  {
   "cell_type": "markdown",
   "metadata": {},
   "source": [
    "## 2.2 初等行变换\n",
    "- 交换两行\n",
    "- 把某行乘以一个非零常数\n",
    "- 把某行加上另一行的若干倍："
   ]
  },
  {
   "cell_type": "code",
   "execution_count": 11,
   "metadata": {
    "collapsed": true
   },
   "outputs": [],
   "source": [
    "# TODO r1 <---> r2\n",
    "# 直接修改参数矩阵，无返回值\n",
    "def swapRows(M, r1, r2):\n",
    "    M[r1],M[r2]=M[r2],M[r1]\n",
    "\n",
    "# TODO r1 <--- r1 * scale， scale!=0\n",
    "# 直接修改参数矩阵，无返回值\n",
    "def scaleRow(M, r, scale):\n",
    "    if scale==0:\n",
    "        raise ValueError('scale could not be zero!')\n",
    "    else:\n",
    "        for i in range(shape(M)[1]):\n",
    "            M[r][i]*=scale\n",
    "\n",
    "# TODO r1 <--- r1 + r2*scale\n",
    "# 直接修改参数矩阵，无返回值\n",
    "def addScaledRow(M, r1, r2, scale):\n",
    "    r=[ 0 for i in range(shape(M)[1]) ]\n",
    "    for i in range(shape(M)[1]):\n",
    "        r[i]=M[r2][i]*scale\n",
    "    for i in range(shape(M)[1]):\n",
    "        M[r1][i]+=r[i]"
   ]
  },
  {
   "cell_type": "markdown",
   "metadata": {},
   "source": [
    "## 2.3  Gaussian Jordan 消元法求解 Ax = b"
   ]
  },
  {
   "cell_type": "markdown",
   "metadata": {},
   "source": [
    "### 提示：\n",
    "\n",
    "步骤1 检查A，b是否行数相同\n",
    "\n",
    "步骤2 构造增广矩阵Ab\n",
    "\n",
    "步骤3 逐列转换Ab为化简行阶梯形矩阵 [中文维基链接](https://zh.wikipedia.org/wiki/%E9%98%B6%E6%A2%AF%E5%BD%A2%E7%9F%A9%E9%98%B5#.E5.8C.96.E7.AE.80.E5.90.8E.E7.9A.84-.7Bzh-hans:.E8.A1.8C.3B_zh-hant:.E5.88.97.3B.7D-.E9.98.B6.E6.A2.AF.E5.BD.A2.E7.9F.A9.E9.98.B5)\n",
    "    \n",
    "    对于Ab的每一列（最后一列除外）\n",
    "        当前列为列c\n",
    "        寻找列c中 对角线以及对角线以下所有元素（行 c~N）的绝对值的最大值\n",
    "        如果绝对值最大值为0\n",
    "            那么A为奇异矩阵，返回None （请在问题2.4中证明该命题）\n",
    "        否则\n",
    "            使用第一个行变换，将绝对值最大值所在行交换到对角线元素所在行（行c） \n",
    "            使用第二个行变换，将列c的对角线元素缩放为1\n",
    "            多次使用第三个行变换，将列c的其他元素消为0\n",
    "            \n",
    "步骤4 返回Ab的最后一列\n",
    "\n",
    "### 注：\n",
    "我们并没有按照常规方法先把矩阵转化为行阶梯形矩阵，再转换为化简行阶梯形矩阵，而是一步到位。如果你熟悉常规方法的话，可以思考一下两者的等价性。"
   ]
  },
  {
   "cell_type": "code",
   "execution_count": 12,
   "metadata": {
    "collapsed": true
   },
   "outputs": [],
   "source": [
    "# TODO 实现 Gaussain Jordan 方法求解 Ax = b\n",
    "\n",
    "\"\"\" Gaussian Jordan 方法求解 Ax = b.\n",
    "    参数\n",
    "        A: 方阵 \n",
    "        b: 列向量\n",
    "        decPts: 四舍五入位数，默认为4\n",
    "        epsilon: 判读是否为0的阈值，默认 1.0e-16\n",
    "        \n",
    "    返回列向量 x 使得 Ax = b \n",
    "    返回None，如果 A，b 高度不同\n",
    "    返回None，如果 A 为奇异矩阵\n",
    "\"\"\"\n",
    "\n",
    "def gj_Solve(A, b, decPts=4, epsilon = 1.0e-16):\n",
    "    if shape(A)[0]==len(b):\n",
    "\n",
    "#       转为增广矩阵\n",
    "        A = augmentMatrix(A,b)\n",
    "\n",
    "#       针对每列做操作\n",
    "        for j in range(shape(A)[1]-1):\n",
    "            i=j\n",
    "            \n",
    "            # 在这一步不应该交换行，交换行是需要消耗时间的，这种实现会非常慢\n",
    "#            while i+1<shape(A)[0]:\n",
    "#                if A[j][j]<A[i+1][j]:\n",
    "#                    swapRows(A, j, i+1)\n",
    "#                i+=1\n",
    "\n",
    "#           如果为奇异矩阵返回none\n",
    "            if abs(A[j][j])<epsilon:\n",
    "                return None\n",
    "            scaleRow(A,j,1.0/A[j][j])\n",
    "            for i in range(shape(A)[0]):\n",
    "                if i!=j:\n",
    "                    addScaledRow(A, i, j, -1.0*A[i][j])\n",
    "        matxRound(A,decPts)\n",
    "        N=transpose(A)[-1]\n",
    "        return [[N[j]] for j in range(len(N))]\n",
    "    else:\n",
    "        raise ValueError"
   ]
  },
  {
   "cell_type": "markdown",
   "metadata": {},
   "source": [
    "## 2.4 证明下面的命题：\n",
    "\n",
    "**如果方阵 A 可以被分为4个部分: ** \n",
    "\n",
    "$ A = \\begin{bmatrix}\n",
    "    I    & X \\\\\n",
    "    Z    & Y \\\\\n",
    "\\end{bmatrix} , \\text{其中 I 为单位矩阵，Z 为全0矩阵，Y 的第一列全0}$，\n",
    "\n",
    "**那么A为奇异矩阵。**\n",
    "\n",
    "提示：从多种角度都可以完成证明\n",
    "- 考虑矩阵 Y 和 矩阵 A 的秩\n",
    "- 考虑矩阵 Y 和 矩阵 A 的行列式\n",
    "- 考虑矩阵 A 的某一列是其他列的线性组合"
   ]
  },
  {
   "cell_type": "markdown",
   "metadata": {},
   "source": [
    "TODO 请使用 latex （请参照题目的 latex 写法学习）\n",
    "\n",
    "TODO 证明：\n",
    "\n",
    "**奇异矩阵在线性代数的概念： 对应的行列式等于0的方阵。**\n",
    "\n",
    "**在此例中，因为I为单位矩阵,Z为全0矩阵,且A为方阵,由于Y的第一列全0代表矩阵A的对角线含有0,**\n",
    "\n",
    "$ A = \\begin{bmatrix}\n",
    "    1&0&0    & X&X&X \\\\\n",
    "    0&1&0    & X&X&X \\\\\n",
    "    0&0&1    & X&X&X \\\\   \n",
    "    0&0&0    & 0&X&X \\\\\n",
    "    0&0&0    & 0&X&X \\\\\n",
    "    0&0&0    & 0&X&X \\\\  \n",
    "\\end{bmatrix} \n",
    "$\n",
    "\n",
    "**所以此矩阵转换为上三角形矩阵的行列式的值为0，即|A|=0,**\n",
    "\n",
    "**当一个矩阵所在的行列式的值为0的话,该矩阵为奇异矩阵。**\n",
    "**因此A为奇异矩阵。**"
   ]
  },
  {
   "cell_type": "markdown",
   "metadata": {},
   "source": [
    "## 2.5 测试 gj_Solve() 实现是否正确"
   ]
  },
  {
   "cell_type": "code",
   "execution_count": 13,
   "metadata": {
    "collapsed": false
   },
   "outputs": [
    {
     "name": "stdout",
     "output_type": "stream",
     "text": [
      "此Ax = b的解为:\n",
      "None\n",
      "此Ax = b的解为:\n",
      "[[2.0], [-1.0]]\n",
      "其中，Ax的值为:\n",
      "[[0], [3]]\n",
      "其中，b的值为:\n",
      "[[0], [3]]\n"
     ]
    }
   ],
   "source": [
    "# TODO 构造 矩阵A，列向量b，其中 A 为奇异矩阵\n",
    "A=[[3,6],[0,0]]\n",
    "b=[[0],[3]]\n",
    "print \"此Ax = b的解为:\"\n",
    "pp.pprint(gj_Solve(A,b,2))\n",
    "\n",
    "# TODO 构造 矩阵A，列向量b，其中 A 为非奇异矩阵\n",
    "A=[[3,6],[2,1]]\n",
    "b=[[0],[3]]\n",
    "# TODO 求解 x 使得 Ax = b\n",
    "print \"此Ax = b的解为:\"\n",
    "pp.pprint(gj_Solve(A,b,2))\n",
    "\n",
    "# TODO 计算 Ax\n",
    "A1=3*2-6\n",
    "A2=2*2-1\n",
    "Ax=[[0],[3]]\n",
    "\n",
    "# TODO 比较 Ax 与 b\n",
    "print \"其中，Ax的值为:\"\n",
    "print Ax\n",
    "print \"其中，b的值为:\"\n",
    "print b"
   ]
  },
  {
   "cell_type": "markdown",
   "metadata": {},
   "source": [
    "# 3 线性回归: \n",
    "\n",
    "## 3.1 计算损失函数相对于参数的导数 (两个3.1 选做其一)\n",
    "\n",
    "我们定义损失函数 E ：\n",
    "$$\n",
    "E = \\sum_{i=1}^{n}{(y_i - mx_i - b)^2}\n",
    "$$\n",
    "\n",
    "证明：\n",
    "$$\n",
    "\\frac{\\partial E}{\\partial m} = \\sum_{i=1}^{n}{-2x_i(y_i - mx_i - b)}\n",
    "$$\n",
    "\n",
    "$$\n",
    "\\frac{\\partial E}{\\partial b} = \\sum_{i=1}^{n}{-2(y_i - mx_i - b)}\n",
    "$$\n",
    "\n",
    "$$\n",
    "\\begin{bmatrix}\n",
    "    \\frac{\\partial E}{\\partial m} \\\\\n",
    "    \\frac{\\partial E}{\\partial b} \n",
    "\\end{bmatrix} = 2X^TXh - 2X^TY\n",
    "$$\n",
    "\n",
    "$$ \n",
    "\\text{其中 }\n",
    "Y =  \\begin{bmatrix}\n",
    "    y_1 \\\\\n",
    "    y_2 \\\\\n",
    "    ... \\\\\n",
    "    y_n\n",
    "\\end{bmatrix}\n",
    ",\n",
    "X =  \\begin{bmatrix}\n",
    "    x_1 & 1 \\\\\n",
    "    x_2 & 1\\\\\n",
    "    ... & ...\\\\\n",
    "    x_n & 1 \\\\\n",
    "\\end{bmatrix},\n",
    "h =  \\begin{bmatrix}\n",
    "    m \\\\\n",
    "    b \\\\\n",
    "\\end{bmatrix}\n",
    "$$"
   ]
  },
  {
   "cell_type": "markdown",
   "metadata": {},
   "source": [
    "TODO 请使用 latex （参照题目的 latex写法学习）\n",
    "\n",
    "TODO 证明：\n",
    "\n",
    "1:\n",
    "$$\n",
    "E = \\sum_{i=1}^{n}{y_i^2-y_ix_im-by_i-y_ix_im+x_i^2m^2+bx_im-by_i+bx_im+b^2}\n",
    "$$\n",
    "方程两边对于m同时求导\n",
    "$$\n",
    "\\frac{\\partial E}{\\partial m} = \\sum_{i=1}^{n}{-2x_iy_i+2mx_i^2+2bx_i}\n",
    "$$\n",
    "$$\n",
    "\\frac{\\partial E}{\\partial m} = \\sum_{i=1}^{n}{-2x_i(y_i - mx_i - b)}\n",
    "$$\n",
    "2:\n",
    "$$\n",
    "E = \\sum_{i=1}^{n}{y_i^2-y_ix_im-by_i-y_ix_im+x_i^2m^2+bx_im-by_i+bx_im+b^2}\n",
    "$$\n",
    "方程两边对于b同时求导\n",
    "$$\n",
    "\\frac{\\partial E}{\\partial b} = \\sum_{i=1}^{n}{-2y_i+2mx_i+2b}\n",
    "$$\n",
    "$$\n",
    "\\frac{\\partial E}{\\partial b} = \\sum_{i=1}^{n}{-2(y_i - mx_i - b)}\n",
    "$$\n",
    "3:\n",
    "将Y和X的值代入\n",
    "$$\n",
    "2X^TXh - 2X^TY=2 \\begin{bmatrix}\n",
    "    m(x_1^2+x_2^2+...+x_n^2)+b(x_1+x_2+...+x_n)\\\\\n",
    "    m(x_1+x_2+...+x_n)+bn \n",
    "\\end{bmatrix}-2 \\begin{bmatrix}\n",
    "    x_1y_1+x_2y_2+...+x_ny_n\\\\\n",
    "    y_1+y_2+...+y_n\n",
    "\\end{bmatrix}\n",
    "$$\n",
    "$$\n",
    "2X^TXh - 2X^TY=2 \\begin{bmatrix}\n",
    "    m(x_1^2+x_2^2+...+x_n^2)+b(x_1+x_2+...+x_n)-(x_1y_1+x_2y_2+...+x_ny_n)\\\\\n",
    "    m(x_1+x_2+...+x_n)+bn-(y_1+y_2+...+y_n)\n",
    "\\end{bmatrix}\n",
    "$$\n",
    "$$\n",
    "2X^TXh - 2X^TY= \\begin{bmatrix}\n",
    "\\sum_{i=1}^{n}{-2x_i(y_i - mx_i - b)}\\\\\n",
    "\\sum_{i=1}^{n}{-2(y_i - mx_i - b)}\n",
    "\\end{bmatrix}\n",
    "$$\n",
    "根据1和2的结论可得:\n",
    "$$\n",
    "2X^TXh - 2X^TY=\n",
    "\\begin{bmatrix}\n",
    "    \\frac{\\partial E}{\\partial m} \\\\\n",
    "    \\frac{\\partial E}{\\partial b} \n",
    "\\end{bmatrix} \n",
    "$$"
   ]
  },
  {
   "cell_type": "markdown",
   "metadata": {},
   "source": [
    "## 3.1 计算损失函数相对于参数的导数（两个3.1 选做其一）\n",
    "\n",
    "证明：\n",
    "\n",
    "$$\n",
    "E = Y^TY -2(Xh)^TY + (Xh)^TXh\n",
    "$$ \n",
    "\n",
    "$$\n",
    "\\begin{bmatrix}\n",
    "    \\frac{\\partial E}{\\partial m} \\\\\n",
    "    \\frac{\\partial E}{\\partial b} \n",
    "\\end{bmatrix}  = \\frac{\\partial E}{\\partial h} = 2X^TXh - 2X^TY\n",
    "$$\n",
    "\n",
    "$$ \n",
    "\\text{其中 }\n",
    "Y =  \\begin{bmatrix}\n",
    "    y_1 \\\\\n",
    "    y_2 \\\\\n",
    "    ... \\\\\n",
    "    y_n\n",
    "\\end{bmatrix}\n",
    ",\n",
    "X =  \\begin{bmatrix}\n",
    "    x_1 & 1 \\\\\n",
    "    x_2 & 1\\\\\n",
    "    ... & ...\\\\\n",
    "    x_n & 1 \\\\\n",
    "\\end{bmatrix},\n",
    "h =  \\begin{bmatrix}\n",
    "    m \\\\\n",
    "    b \\\\\n",
    "\\end{bmatrix}\n",
    "$$"
   ]
  },
  {
   "cell_type": "markdown",
   "metadata": {},
   "source": [
    "TODO 请使用 latex （参照题目的 latex写法学习）\n",
    "\n",
    "TODO 证明：\n",
    "\n"
   ]
  },
  {
   "cell_type": "markdown",
   "metadata": {},
   "source": [
    "## 3.2  线性回归\n",
    "\n",
    "### 求解方程 $X^TXh = X^TY $, 计算线性回归的最佳参数 h"
   ]
  },
  {
   "cell_type": "code",
   "execution_count": 14,
   "metadata": {
    "collapsed": true
   },
   "outputs": [],
   "source": [
    "# TODO 实现线性回归\n",
    "'''\n",
    "参数：(x,y) 二元组列表\n",
    "返回：m，b\n",
    "'''\n",
    "def linearRegression(points):\n",
    "    n=len(points)\n",
    "    x=[[points[i][0],1] for i in range(n)]\n",
    "    x_t=transpose(x)\n",
    "    y=[[points[i][1]] for i in range(n)]\n",
    "    x_t_change_x=matxMultiply(x_t,x)\n",
    "    x_t_change_y=matxMultiply(x_t,y)\n",
    "    #print 'x_t_x=',x_t_change_x\n",
    "    return gj_Solve(x_t_change_x,x_t_change_y)"
   ]
  },
  {
   "cell_type": "markdown",
   "metadata": {},
   "source": [
    "## 3.3 测试你的线性回归实现"
   ]
  },
  {
   "cell_type": "code",
   "execution_count": 15,
   "metadata": {
    "collapsed": false
   },
   "outputs": [
    {
     "name": "stdout",
     "output_type": "stream",
     "text": [
      "[[2.0017], [9.6774]]\n"
     ]
    }
   ],
   "source": [
    "# TODO 构造线性函数\n",
    "\n",
    "# TODO 构造 100 个线性函数上的点，加上适当的高斯噪音\n",
    "import random\n",
    "#构建线性函数y=10+2x\n",
    "P =  [ [ 0 for i in range(2) ] for j in range(100) ]\n",
    "for i in range(100):\n",
    "    P[i][0]=random.randint(0, 100)\n",
    "    P[i][1]=random.gauss(2*P[i][0]+10,1)\n",
    "#高斯噪音指的是服从标准正态分布的随机数，要求均值为0方差为1\n",
    "    \n",
    "#TODO 对这100个点进行线性回归，将线性回归得到的函数和原线性函数比较\n",
    "print linearRegression(P)"
   ]
  },
  {
   "cell_type": "markdown",
   "metadata": {},
   "source": [
    "## 4.1 单元测试"
   ]
  },
  {
   "cell_type": "markdown",
   "metadata": {},
   "source": [
    "请确保你的实现通过了以下所有单元测试。"
   ]
  },
  {
   "cell_type": "code",
   "execution_count": 16,
   "metadata": {
    "collapsed": false
   },
   "outputs": [
    {
     "name": "stderr",
     "output_type": "stream",
     "text": [
      "test_addScaleRow (__main__.LinearRegressionTestCase) ... ok\n",
      "test_augmentMatrix (__main__.LinearRegressionTestCase) ... ok\n",
      "test_gj_Solve (__main__.LinearRegressionTestCase) ... ok\n",
      "test_matxMultiply (__main__.LinearRegressionTestCase) ... ok\n",
      "test_matxRound (__main__.LinearRegressionTestCase) ... ok\n",
      "test_scaleRow (__main__.LinearRegressionTestCase) ... ok\n",
      "test_shape (__main__.LinearRegressionTestCase) ... ok\n",
      "test_swapRows (__main__.LinearRegressionTestCase) ... ok\n",
      "test_transpose (__main__.LinearRegressionTestCase) ... ok\n",
      "\n",
      "----------------------------------------------------------------------\n",
      "Ran 9 tests in 0.201s\n",
      "\n",
      "OK\n"
     ]
    },
    {
     "data": {
      "text/plain": [
       "<unittest.runner.TextTestResult run=9 errors=0 failures=0>"
      ]
     },
     "execution_count": 16,
     "metadata": {},
     "output_type": "execute_result"
    }
   ],
   "source": [
    "import unittest\n",
    "import numpy as np\n",
    "\n",
    "from decimal import *\n",
    "\n",
    "class LinearRegressionTestCase(unittest.TestCase):\n",
    "    \"\"\"Test for linear regression project\"\"\"\n",
    "\n",
    "    def test_shape(self):\n",
    "\n",
    "        for _ in range(10):\n",
    "            r,c = np.random.randint(low=1,high=25,size=2)\n",
    "            matrix = np.random.randint(low=-10,high=10,size=(r,c))\n",
    "            self.assertEqual(shape(matrix.tolist()),(r,c))\n",
    "\n",
    "\n",
    "    def test_matxRound(self):\n",
    "\n",
    "        for decpts in range(10):\n",
    "            r,c = np.random.randint(low=1,high=25,size=2)\n",
    "            matrix = np.random.random((r,c))\n",
    "\n",
    "            mat = matrix.tolist()\n",
    "            dec_true = [[Decimal(str(round(num,decpts))) for num in row] for row in mat]\n",
    "\n",
    "            matxRound(mat,decpts)\n",
    "            dec_test = [[Decimal(str(num)) for num in row] for row in mat]\n",
    "\n",
    "            res = Decimal('0')\n",
    "            for i in range(len(mat)):\n",
    "                for j in range(len(mat[0])):\n",
    "                    res += dec_test[i][j].compare_total(dec_true[i][j])\n",
    "\n",
    "            self.assertEqual(res,Decimal('0'))\n",
    "\n",
    "\n",
    "    def test_transpose(self):\n",
    "        for _ in range(10):\n",
    "            r,c = np.random.randint(low=1,high=25,size=2)\n",
    "            matrix = np.random.random((r,c))\n",
    "\n",
    "            mat = matrix.tolist()\n",
    "            t = np.array(transpose(mat))\n",
    "\n",
    "            self.assertEqual(t.shape,(c,r))\n",
    "            self.assertTrue((matrix.T == t).all())\n",
    "\n",
    "\n",
    "    def test_matxMultiply(self):\n",
    "\n",
    "        for _ in range(10):\n",
    "            r,d,c = np.random.randint(low=1,high=25,size=3)\n",
    "            mat1 = np.random.randint(low=-10,high=10,size=(r,d)) \n",
    "            mat2 = np.random.randint(low=-5,high=5,size=(d,c)) \n",
    "            dotProduct = np.dot(mat1,mat2)\n",
    "\n",
    "            dp = np.array(matxMultiply(mat1,mat2))\n",
    "\n",
    "            self.assertTrue((dotProduct == dp).all())\n",
    "\n",
    "\n",
    "    def test_augmentMatrix(self):\n",
    "\n",
    "        for _ in range(10):\n",
    "            r,c = np.random.randint(low=1,high=25,size=2)\n",
    "            A = np.random.randint(low=-10,high=10,size=(r,c))\n",
    "            b = np.random.randint(low=-10,high=10,size=(r,1))\n",
    "\n",
    "            Ab = np.array(augmentMatrix(A.tolist(),b.tolist()))\n",
    "            ab = np.hstack((A,b))\n",
    "\n",
    "            self.assertTrue((Ab == ab).all())\n",
    "\n",
    "    def test_swapRows(self):\n",
    "        for _ in range(10):\n",
    "            r,c = np.random.randint(low=1,high=25,size=2)\n",
    "            matrix = np.random.random((r,c))\n",
    "\n",
    "            mat = matrix.tolist()\n",
    "\n",
    "            r1, r2 = np.random.randint(0,r, size = 2)\n",
    "            swapRows(mat,r1,r2)\n",
    "\n",
    "            matrix[[r1,r2]] = matrix[[r2,r1]]\n",
    "\n",
    "            self.assertTrue((matrix == np.array(mat)).all())\n",
    "\n",
    "    def test_scaleRow(self):\n",
    "\n",
    "        for _ in range(10):\n",
    "            r,c = np.random.randint(low=1,high=25,size=2)\n",
    "            matrix = np.random.random((r,c))\n",
    "\n",
    "            mat = matrix.tolist()\n",
    "\n",
    "            rr = np.random.randint(0,r)\n",
    "            with self.assertRaises(ValueError):\n",
    "                scaleRow(mat,rr,0)\n",
    "\n",
    "            scale = np.random.randint(low=1,high=10)\n",
    "            scaleRow(mat,rr,scale)\n",
    "            matrix[rr] *= scale\n",
    "\n",
    "            self.assertTrue((matrix == np.array(mat)).all())\n",
    "    \n",
    "    def test_addScaleRow(self):\n",
    "\n",
    "        for _ in range(10):\n",
    "            r,c = np.random.randint(low=1,high=25,size=2)\n",
    "            matrix = np.random.random((r,c))\n",
    "\n",
    "            mat = matrix.tolist()\n",
    "\n",
    "            r1,r2 = np.random.randint(0,r,size=2)\n",
    "\n",
    "            scale = np.random.randint(low=1,high=10)\n",
    "            addScaledRow(mat,r1,r2,scale)\n",
    "            matrix[r1] += scale * matrix[r2]\n",
    "\n",
    "            self.assertTrue((matrix == np.array(mat)).all())\n",
    "\n",
    "\n",
    "    def test_gj_Solve(self):\n",
    "\n",
    "        for _ in range(10):\n",
    "            r = np.random.randint(low=3,high=10)\n",
    "            A = np.random.randint(low=-10,high=10,size=(r,r))\n",
    "            b = np.arange(r).reshape((r,1))\n",
    "            x = gj_Solve(A.tolist(),b.tolist())\n",
    "            if np.linalg.matrix_rank(A) < r:\n",
    "                self.assertEqual(x,None)\n",
    "            else:\n",
    "                # Ax = matxMultiply(A.tolist(),x)\n",
    "                Ax = np.dot(A,np.array(x))\n",
    "                loss = np.mean((Ax - b)**2)\n",
    "                # print Ax\n",
    "                # print loss\n",
    "                self.assertTrue(loss<0.1)\n",
    "\n",
    "\n",
    "suite = unittest.TestLoader().loadTestsFromTestCase(LinearRegressionTestCase)\n",
    "unittest.TextTestRunner(verbosity=3).run(suite)"
   ]
  }
 ],
 "metadata": {
  "anaconda-cloud": {},
  "celltoolbar": "Raw Cell Format",
  "kernelspec": {
   "display_name": "Python 2",
   "language": "python",
   "name": "python2"
  },
  "language_info": {
   "codemirror_mode": {
    "name": "ipython",
    "version": 2
   },
   "file_extension": ".py",
   "mimetype": "text/x-python",
   "name": "python",
   "nbconvert_exporter": "python",
   "pygments_lexer": "ipython2",
   "version": "2.7.13"
  }
 },
 "nbformat": 4,
 "nbformat_minor": 1
}
