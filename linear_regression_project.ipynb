{
 "cells": [
  {
   "cell_type": "markdown",
   "metadata": {},
   "source": [
    "欢迎来到线性回归项目。\n",
    "\n",
    "若项目中的题目有困难没完成也没关系，我们鼓励您带着问题提交项目，评审会给予您诸多帮助。\n",
    "\n",
    "其中证明题可以提交 pdf 格式，手写后扫描或使用公式编辑器（latex，mathtype）均可行。"
   ]
  },
  {
   "cell_type": "markdown",
   "metadata": {},
   "source": [
    "# 1 矩阵运算\n",
    "\n",
    "## 1.1 创建一个 4*4 的单位矩阵"
   ]
  },
  {
   "cell_type": "code",
   "execution_count": 1,
   "metadata": {},
   "outputs": [
    {
     "name": "stdout",
     "output_type": "stream",
     "text": [
      "[[1, 0, 0, 0], [0, 1, 0, 0], [0, 0, 1, 0], [0, 0, 0, 1]]\n"
     ]
    }
   ],
   "source": [
    "# 这个项目设计来帮你熟悉 python list 和线性代数\n",
    "# 你不能调用任何python库，包括NumPy，来完成作业\n",
    "\n",
    "A = [[1,2,3], \n",
    "     [2,3,3], \n",
    "     [1,2,5]]\n",
    "\n",
    "B = [[1,2,3,5], \n",
    "     [2,3,3,5], \n",
    "     [1,2,5,1]]\n",
    "\n",
    "#TODO 创建一个 4*4 单位矩阵\n",
    "def identity_matrix(n):\n",
    "    I = [0] * n\n",
    "    for i in range(0, n):\n",
    "        I[i] = [0]*n\n",
    "        I[i][i] = 1\n",
    "    return I\n",
    "print identity_matrix(4)"
   ]
  },
  {
   "cell_type": "markdown",
   "metadata": {},
   "source": [
    "## 1.2 返回矩阵的行数和列数"
   ]
  },
  {
   "cell_type": "code",
   "execution_count": 2,
   "metadata": {
    "collapsed": true
   },
   "outputs": [],
   "source": [
    "# TODO 返回矩阵的行数和列数\n",
    "def shape(M):\n",
    "    i = len(M)\n",
    "    j = len(M[0])\n",
    "    return i,j"
   ]
  },
  {
   "cell_type": "code",
   "execution_count": 3,
   "metadata": {
    "scrolled": true
   },
   "outputs": [
    {
     "name": "stderr",
     "output_type": "stream",
     "text": [
      ".\n",
      "----------------------------------------------------------------------\n",
      "Ran 1 test in 0.002s\n",
      "\n",
      "OK\n"
     ]
    }
   ],
   "source": [
    "# 运行以下代码测试你的 shape 函数\n",
    "%run -i -e test.py LinearRegressionTestCase.test_shape"
   ]
  },
  {
   "cell_type": "markdown",
   "metadata": {},
   "source": [
    "## 1.3 每个元素四舍五入到特定小数数位"
   ]
  },
  {
   "cell_type": "code",
   "execution_count": 4,
   "metadata": {
    "collapsed": true
   },
   "outputs": [],
   "source": [
    "# TODO 每个元素四舍五入到特定小数数位\n",
    "# 直接修改参数矩阵，无返回值\n",
    "def matxRound(M, decPts = 4):\n",
    "    for x in M:\n",
    "        for y in range(len(x)):\n",
    "            x[y] = round(x[y], decPts)\n",
    "    pass"
   ]
  },
  {
   "cell_type": "code",
   "execution_count": 5,
   "metadata": {},
   "outputs": [
    {
     "name": "stderr",
     "output_type": "stream",
     "text": [
      ".\n",
      "----------------------------------------------------------------------\n",
      "Ran 1 test in 0.052s\n",
      "\n",
      "OK\n"
     ]
    }
   ],
   "source": [
    "# 运行以下代码测试你的 matxRound 函数\n",
    "%run -i -e test.py LinearRegressionTestCase.test_matxRound"
   ]
  },
  {
   "cell_type": "markdown",
   "metadata": {},
   "source": [
    "## 1.4 计算矩阵的转置"
   ]
  },
  {
   "cell_type": "code",
   "execution_count": 6,
   "metadata": {
    "collapsed": true
   },
   "outputs": [],
   "source": [
    "# TODO 计算矩阵的转置\n",
    "def transpose(M):\n",
    "    return [list(col) for col in zip(*M)]"
   ]
  },
  {
   "cell_type": "code",
   "execution_count": 7,
   "metadata": {
    "scrolled": true
   },
   "outputs": [
    {
     "name": "stderr",
     "output_type": "stream",
     "text": [
      ".\n",
      "----------------------------------------------------------------------\n",
      "Ran 1 test in 0.005s\n",
      "\n",
      "OK\n"
     ]
    }
   ],
   "source": [
    "# 运行以下代码测试你的 transpose 函数\n",
    "%run -i -e test.py LinearRegressionTestCase.test_transpose"
   ]
  },
  {
   "cell_type": "markdown",
   "metadata": {},
   "source": [
    "## 1.5 计算矩阵乘法 AB"
   ]
  },
  {
   "cell_type": "code",
   "execution_count": 8,
   "metadata": {
    "collapsed": true
   },
   "outputs": [],
   "source": [
    "# TODO 计算矩阵乘法 AB，如果无法相乘则返回None\n",
    "def matxMultiply(A,B):\n",
    "    _, c = shape(A)\n",
    "    r, _ = shape(B)\n",
    "    if c != r :\n",
    "        return None\n",
    "\n",
    "    Bt = transpose(B)\n",
    "    result = [[sum((a*b) for a,b in zip(row,col)) for col in Bt] for row in A]\n",
    "    return result"
   ]
  },
  {
   "cell_type": "code",
   "execution_count": 9,
   "metadata": {},
   "outputs": [
    {
     "name": "stderr",
     "output_type": "stream",
     "text": [
      "F\n",
      "======================================================================\n",
      "FAIL: test_matxMultiply (__main__.LinearRegressionTestCase)\n",
      "----------------------------------------------------------------------\n",
      "Traceback (most recent call last):\n",
      "  File \"C:\\Users\\Administrator.WIN7--20160912B\\Desktop\\linear_algebra-master\\test.py\", line 64, in test_matxMultiply\n",
      "    matxMultiply(mat1.tolist(),mat2.tolist())\n",
      "AssertionError: ValueError not raised\n",
      "\n",
      "----------------------------------------------------------------------\n",
      "Ran 1 test in 0.035s\n",
      "\n",
      "FAILED (failures=1)\n"
     ]
    }
   ],
   "source": [
    "# 运行以下代码测试你的 matxMultiply 函数\n",
    "%run -i -e test.py LinearRegressionTestCase.test_matxMultiply"
   ]
  },
  {
   "cell_type": "markdown",
   "metadata": {},
   "source": [
    "---\n",
    "\n",
    "# 2 Gaussign Jordan 消元法\n",
    "\n",
    "## 2.1 构造增广矩阵\n",
    "\n",
    "$ A = \\begin{bmatrix}\n",
    "    a_{11}    & a_{12} & ... & a_{1n}\\\\\n",
    "    a_{21}    & a_{22} & ... & a_{2n}\\\\\n",
    "    a_{31}    & a_{22} & ... & a_{3n}\\\\\n",
    "    ...    & ... & ... & ...\\\\\n",
    "    a_{n1}    & a_{n2} & ... & a_{nn}\\\\\n",
    "\\end{bmatrix} , b = \\begin{bmatrix}\n",
    "    b_{1}  \\\\\n",
    "    b_{2}  \\\\\n",
    "    b_{3}  \\\\\n",
    "    ...    \\\\\n",
    "    b_{n}  \\\\\n",
    "\\end{bmatrix}$\n",
    "\n",
    "返回 $ Ab = \\begin{bmatrix}\n",
    "    a_{11}    & a_{12} & ... & a_{1n} & b_{1}\\\\\n",
    "    a_{21}    & a_{22} & ... & a_{2n} & b_{2}\\\\\n",
    "    a_{31}    & a_{22} & ... & a_{3n} & b_{3}\\\\\n",
    "    ...    & ... & ... & ...& ...\\\\\n",
    "    a_{n1}    & a_{n2} & ... & a_{nn} & b_{n} \\end{bmatrix}$"
   ]
  },
  {
   "cell_type": "code",
   "execution_count": 10,
   "metadata": {
    "collapsed": true
   },
   "outputs": [],
   "source": [
    "# TODO 构造增广矩阵，假设A，b行数相同\n",
    "def augmentMatrix(A, b):\n",
    "    return [ra + rb for ra,rb in zip(A,b)]"
   ]
  },
  {
   "cell_type": "code",
   "execution_count": 11,
   "metadata": {},
   "outputs": [
    {
     "name": "stderr",
     "output_type": "stream",
     "text": [
      ".\n",
      "----------------------------------------------------------------------\n",
      "Ran 1 test in 0.004s\n",
      "\n",
      "OK\n"
     ]
    }
   ],
   "source": [
    "# 运行以下代码测试你的 augmentMatrix 函数\n",
    "%run -i -e test.py LinearRegressionTestCase.test_augmentMatrix"
   ]
  },
  {
   "cell_type": "markdown",
   "metadata": {},
   "source": [
    "## 2.2 初等行变换\n",
    "- 交换两行\n",
    "- 把某行乘以一个非零常数\n",
    "- 把某行加上另一行的若干倍："
   ]
  },
  {
   "cell_type": "code",
   "execution_count": 12,
   "metadata": {
    "collapsed": true
   },
   "outputs": [],
   "source": [
    "# TODO r1 <---> r2\n",
    "# 直接修改参数矩阵，无返回值\n",
    "def swapRows(M, r1, r2):\n",
    "    M[r1], M[r2] = M[r2], M[r1]"
   ]
  },
  {
   "cell_type": "code",
   "execution_count": 13,
   "metadata": {},
   "outputs": [
    {
     "name": "stderr",
     "output_type": "stream",
     "text": [
      ".\n",
      "----------------------------------------------------------------------\n",
      "Ran 1 test in 0.002s\n",
      "\n",
      "OK\n"
     ]
    }
   ],
   "source": [
    "# 运行以下代码测试你的 swapRows 函数\n",
    "%run -i -e test.py LinearRegressionTestCase.test_swapRows"
   ]
  },
  {
   "cell_type": "code",
   "execution_count": 14,
   "metadata": {
    "collapsed": true
   },
   "outputs": [],
   "source": [
    "# TODO r1 <--- r1 * scale， scale!=0\n",
    "# 直接修改参数矩阵，无返回值\n",
    "def scaleRow(M, r, scale):\n",
    "    if scale == 0:\n",
    "        raise ValueError\n",
    "    else:\n",
    "        M[r] = [i * scale for i in M[r]]"
   ]
  },
  {
   "cell_type": "code",
   "execution_count": 15,
   "metadata": {},
   "outputs": [
    {
     "name": "stderr",
     "output_type": "stream",
     "text": [
      ".\n",
      "----------------------------------------------------------------------\n",
      "Ran 1 test in 0.002s\n",
      "\n",
      "OK\n"
     ]
    }
   ],
   "source": [
    "# 运行以下代码测试你的 scaleRow 函数\n",
    "%run -i -e test.py LinearRegressionTestCase.test_scaleRow"
   ]
  },
  {
   "cell_type": "code",
   "execution_count": 16,
   "metadata": {
    "collapsed": true
   },
   "outputs": [],
   "source": [
    "# TODO r1 <--- r1 + r2*scale\n",
    "# 直接修改参数矩阵，无返回值\n",
    "def addScaledRow(M, r1, r2, scale):\n",
    "    x = [i * scale for i in M[r2]]\n",
    "    M[r1] = [a + b for a, b in zip(M[r1], x)]"
   ]
  },
  {
   "cell_type": "code",
   "execution_count": 17,
   "metadata": {},
   "outputs": [
    {
     "name": "stderr",
     "output_type": "stream",
     "text": [
      ".\n",
      "----------------------------------------------------------------------\n",
      "Ran 1 test in 0.002s\n",
      "\n",
      "OK\n"
     ]
    }
   ],
   "source": [
    "# 运行以下代码测试你的 addScaledRow 函数\n",
    "%run -i -e test.py LinearRegressionTestCase.test_addScaledRow"
   ]
  },
  {
   "cell_type": "markdown",
   "metadata": {},
   "source": [
    "## 2.3  Gaussian Jordan 消元法求解 Ax = b"
   ]
  },
  {
   "cell_type": "markdown",
   "metadata": {},
   "source": [
    "### 提示：\n",
    "\n",
    "步骤1 检查A，b是否行数相同\n",
    "\n",
    "步骤2 构造增广矩阵Ab\n",
    "\n",
    "步骤3 逐列转换Ab为化简行阶梯形矩阵 [中文维基链接](https://zh.wikipedia.org/wiki/%E9%98%B6%E6%A2%AF%E5%BD%A2%E7%9F%A9%E9%98%B5#.E5.8C.96.E7.AE.80.E5.90.8E.E7.9A.84-.7Bzh-hans:.E8.A1.8C.3B_zh-hant:.E5.88.97.3B.7D-.E9.98.B6.E6.A2.AF.E5.BD.A2.E7.9F.A9.E9.98.B5)\n",
    "    \n",
    "    对于Ab的每一列（最后一列除外）\n",
    "        当前列为列c\n",
    "        寻找列c中 对角线以及对角线以下所有元素（行 c~N）的绝对值的最大值\n",
    "        如果绝对值最大值为0\n",
    "            那么A为奇异矩阵，返回None （请在问题2.4中证明该命题）\n",
    "        否则\n",
    "            使用第一个行变换，将绝对值最大值所在行交换到对角线元素所在行（行c） \n",
    "            使用第二个行变换，将列c的对角线元素缩放为1\n",
    "            多次使用第三个行变换，将列c的其他元素消为0\n",
    "            \n",
    "步骤4 返回Ab的最后一列\n",
    "\n",
    "### 注：\n",
    "我们并没有按照常规方法先把矩阵转化为行阶梯形矩阵，再转换为化简行阶梯形矩阵，而是一步到位。如果你熟悉常规方法的话，可以思考一下两者的等价性。"
   ]
  },
  {
   "cell_type": "code",
   "execution_count": 18,
   "metadata": {
    "collapsed": true,
    "scrolled": true
   },
   "outputs": [],
   "source": [
    "# TODO 实现 Gaussain Jordan 方法求解 Ax = b\n",
    "\n",
    "\"\"\" Gaussian Jordan 方法求解 Ax = b.\n",
    "    参数\n",
    "        A: 方阵 \n",
    "        b: 列向量\n",
    "        decPts: 四舍五入位数，默认为4\n",
    "        epsilon: 判读是否为0的阈值，默认 1.0e-16\n",
    "        \n",
    "    返回列向量 x 使得 Ax = b \n",
    "    返回None，如果 A，b 高度不同\n",
    "    返回None，如果 A 为奇异矩阵\n",
    "\"\"\"\n",
    "\n",
    "# 开始定义：\n",
    "# Gaussian Jordan\n",
    "def gj_Solve(A, b, decPts=4, epsilon = 1.0e-16):\n",
    "    #检查A，b是否行数相同\n",
    "    if len(A) != len(b):\n",
    "        return None\n",
    "    else:\n",
    "        #构造增广矩阵\n",
    "        Ab = augmentMatrix(A, b)\n",
    "        #对Ab进行转置，方便遍历元素\n",
    "        Ab_T = transpose(Ab)\n",
    "        for index in range(len(Ab_T[0])):\n",
    "            Ab_T = transpose(Ab)\n",
    "            max_this_row = abs(Ab_T[index][index])\n",
    "            max_row_number = index\n",
    "            for index_2 in range(index, len(Ab_T[0])):\n",
    "                if abs(Ab_T[index][index_2]) > max_this_row:\n",
    "                    max_this_row = abs(Ab_T[index][index_2])\n",
    "                    #记录当前绝对值最大值所在的行号,index_2是转置后该元素的列号，是原矩阵中的行号\n",
    "                    max_row_number = index_2\n",
    "            #如果绝对值最大值为0，则A为奇异矩阵\n",
    "            if max_this_row <= epsilon:\n",
    "                return None\n",
    "            else:\n",
    "                #使用第一个行变换，将绝对值最大值所在行交换到对角线元素所在行（行c）\n",
    "                swapRows(Ab, max_row_number, index)\n",
    "                #使用第二个行变换，将列c的对角线元素缩放为1\n",
    "                scaleRow(Ab, index, 1.0/Ab[index][index])\n",
    "                #多次使用第三个行变换，将列c的其他元素消为0\n",
    "                for index_3 in range(len(Ab_T[0])):\n",
    "                    if index_3 != index:\n",
    "                        addScaledRow(Ab, index_3, index, (-Ab[index_3][index])/Ab[index][index])\n",
    "        #返回Ab的最后一列\n",
    "        Ab_last_col = [[] for i in range(len(Ab_T[0]))]\n",
    "        for index_4 in range(len(Ab_T[0])):\n",
    "            Ab_last_col[index_4].append(Ab[index_4][len(Ab_T[0])])\n",
    "        return Ab_last_col"
   ]
  },
  {
   "cell_type": "code",
   "execution_count": 19,
   "metadata": {
    "scrolled": false
   },
   "outputs": [
    {
     "name": "stderr",
     "output_type": "stream",
     "text": [
      ".\n",
      "----------------------------------------------------------------------\n",
      "Ran 1 test in 2.339s\n",
      "\n",
      "OK\n"
     ]
    }
   ],
   "source": [
    "# 运行以下代码测试你的 gj_Solve 函数\n",
    "%run -i -e test.py LinearRegressionTestCase.test_gj_Solve"
   ]
  },
  {
   "cell_type": "markdown",
   "metadata": {},
   "source": [
    "## 2.4 证明下面的命题：\n",
    "\n",
    "**如果方阵 A 可以被分为4个部分: ** \n",
    "\n",
    "$ A = \\begin{bmatrix}\n",
    "    I    & X \\\\\n",
    "    Z    & Y \\\\\n",
    "\\end{bmatrix} , \\text{其中 I 为单位矩阵，Z 为全0矩阵，Y 的第一列全0}$，\n",
    "\n",
    "**那么A为奇异矩阵。**\n",
    "\n",
    "提示：从多种角度都可以完成证明\n",
    "- 考虑矩阵 Y 和 矩阵 A 的秩\n",
    "- 考虑矩阵 Y 和 矩阵 A 的行列式\n",
    "- 考虑矩阵 A 的某一列是其他列的线性组合"
   ]
  },
  {
   "cell_type": "markdown",
   "metadata": {},
   "source": [
    "TODO 证明："
   ]
  },
  {
   "cell_type": "code",
   "execution_count": 20,
   "metadata": {
    "scrolled": false
   },
   "outputs": [
    {
     "data": {
      "text/latex": [
       "$$\\text{1：设方阵A为m+n行m+n列的m+n阶方阵}$$\n",
       "$$\\text{2：根据题目中所给条件可知，方阵A的形式如下：}$$\n",
       "$$ A = \\begin{bmatrix}\n",
       "     &           &              & a_{1, m+1}     & a_{1, m+2}     & ...            & a_{1, m+n}  \\\\\n",
       "     &           &              & .              & .              & ...            & .            \\\\\n",
       "     & I         &              & .              & .              & ...            & .            \\\\\n",
       "     &           &              & .              & .              & ...            & .            \\\\\n",
       "     &           &              & a_{m, m+1}     & a_{m, m+2}     & ...            & a_{m, m+n}   \\\\\n",
       "0    & ...       & 0            & 0              & a_{m+1, m+2}   & ...            & a_{m+1, m+n} \\\\\n",
       "0    & ...       & 0            & 0              & a_{m+2, m+2}   & ...            & a_{m+2,m+n}  \\\\\n",
       ".    & ...       & .            & .              & .              & ...            & .             \\\\\n",
       ".    & ...       & .            & .              & .              & ...            & .             \\\\\n",
       ".    & ...       & .            & .              & .              & ...            & .             \\\\\n",
       "0    & ...       & 0            & 0              & a_{m+n, m+2}   & ...            & a_{m+n, m+n}  \\\\\n",
       "\\end{bmatrix} $$\n",
       "$$\\text{其中I为m阶单位阵，形式如下：}$$\n",
       "$$ I = \\begin{bmatrix}\n",
       "1          &0        & ...       & 0      & 0\\\\\n",
       "0          &1        & ...       & 0      & 0\\\\\n",
       ".          & .       & ...       & .      & .\\\\\n",
       ".          & .       & ...       & .      & .\\\\\n",
       ".          & .       & ...       & .      & .\\\\\n",
       "0          & 0       & ...       & 1      & 0\\\\\n",
       "0          & 0       & ...       & 0      & 1\\\\\n",
       "\\end{bmatrix} $$\n",
       "$$\\text{3：任取非零m+n阶方阵B如下：}$$\n",
       "$$ B = \\begin{bmatrix}\n",
       "         &           &              & b_{1, m+1}     & b_{1, m+2}     & ...           & b_{1, m+n}  \\\\\n",
       "         &           &              & .              & .              & ...            & .            \\\\\n",
       "         & J         &              & .              & .              & ...            & .            \\\\\n",
       "         &           &              & .              & .              & ...            & .            \\\\\n",
       "         &           &              & b_{m, m+1}     & b_{m, m+2}     & ...            & b_{m, m+n}   \\\\\n",
       "0        & ...       & 0            & b_{m+1, m+1}   & b_{m+1, m+2}   & ...           & b_{m+1, m+n}  \\\\\n",
       "0        & ...       & 0            & 0              & 0              & ...            & 0             \\\\\n",
       ".        & ...       & .            & .              & .              & ...            & .             \\\\\n",
       ".        & ...       & .            & .              & .              & ...            & .             \\\\\n",
       ".        & ...       & .            & .              & .              & ...            & .             \\\\\n",
       "0        & ...       & 0            & 0              & 0              & ...            & 0             \\\\\n",
       "\\end{bmatrix} $$\n",
       "$$\\text{其中J为m阶非零方阵，正对角线上全为0，其他元素全为非0，形式如下：}$$\n",
       "$$ J = \\begin{bmatrix}\n",
       "0          & b_{1, 2}        & ...       & b_{1, m-1}      & b_{1, m}\\\\\n",
       "b_{2, 1}   &0                & ...       & b_{2, m-1}      & b_{2, m}\\\\\n",
       ".          & .               & ...       & .               & .\\\\\n",
       ".          & .               & ...       & .               & .\\\\\n",
       ".          & .               & ...       & .               & .\\\\\n",
       "b_{m-1, 1} & b_{m-1, 2}      & ...       & 0               & b_{m-1, m}\\\\\n",
       "b_{m, 1}   & b_{m, 2}        & ...       & b_{m, m-1}      & 0\\\\\n",
       "\\end{bmatrix} $$\n",
       "$$\\text{4：通过计算我们可以知道，BA = 0，根据矩阵性质可得：r(B) + r(A) ≤ n，所以r(A) ≤ n - r(B)}$$\n",
       "$$\\text{5：因为方阵B是非零m+n阶方阵，且方阵B从第m+2行到第m+n行所有元素为0，所以0 ＜ r(B) ＜ n}$$\n",
       "$$\\text{6：假设r(A) = n，则r(B) = 0，与步骤5中0 ＜ r(B) ＜ n矛盾，所以r(A) ＜ n}$$\n",
       "$$\\text{7：所以n阶方阵A为奇异矩阵}$$"
      ],
      "text/plain": [
       "<IPython.core.display.Latex object>"
      ]
     },
     "metadata": {},
     "output_type": "display_data"
    }
   ],
   "source": [
    "%%latex\n",
    "$$\\text{1：设方阵A为m+n行m+n列的m+n阶方阵}$$\n",
    "$$\\text{2：根据题目中所给条件可知，方阵A的形式如下：}$$\n",
    "$$ A = \\begin{bmatrix}\n",
    "     &           &              & a_{1, m+1}     & a_{1, m+2}     & ...            & a_{1, m+n}  \\\\\n",
    "     &           &              & .              & .              & ...            & .            \\\\\n",
    "     & I         &              & .              & .              & ...            & .            \\\\\n",
    "     &           &              & .              & .              & ...            & .            \\\\\n",
    "     &           &              & a_{m, m+1}     & a_{m, m+2}     & ...            & a_{m, m+n}   \\\\\n",
    "0    & ...       & 0            & 0              & a_{m+1, m+2}   & ...            & a_{m+1, m+n} \\\\\n",
    "0    & ...       & 0            & 0              & a_{m+2, m+2}   & ...            & a_{m+2,m+n}  \\\\\n",
    ".    & ...       & .            & .              & .              & ...            & .             \\\\\n",
    ".    & ...       & .            & .              & .              & ...            & .             \\\\\n",
    ".    & ...       & .            & .              & .              & ...            & .             \\\\\n",
    "0    & ...       & 0            & 0              & a_{m+n, m+2}   & ...            & a_{m+n, m+n}  \\\\\n",
    "\\end{bmatrix} $$\n",
    "$$\\text{其中I为m阶单位阵，形式如下：}$$\n",
    "$$ I = \\begin{bmatrix}\n",
    "1          &0        & ...       & 0      & 0\\\\\n",
    "0          &1        & ...       & 0      & 0\\\\\n",
    ".          & .       & ...       & .      & .\\\\\n",
    ".          & .       & ...       & .      & .\\\\\n",
    ".          & .       & ...       & .      & .\\\\\n",
    "0          & 0       & ...       & 1      & 0\\\\\n",
    "0          & 0       & ...       & 0      & 1\\\\\n",
    "\\end{bmatrix} $$\n",
    "$$\\text{3：任取非零m+n阶方阵B如下：}$$\n",
    "$$ B = \\begin{bmatrix}\n",
    "         &           &              & b_{1, m+1}     & b_{1, m+2}     & ...           & b_{1, m+n}  \\\\\n",
    "         &           &              & .              & .              & ...            & .            \\\\\n",
    "         & J         &              & .              & .              & ...            & .            \\\\\n",
    "         &           &              & .              & .              & ...            & .            \\\\\n",
    "         &           &              & b_{m, m+1}     & b_{m, m+2}     & ...            & b_{m, m+n}   \\\\\n",
    "0        & ...       & 0            & b_{m+1, m+1}   & b_{m+1, m+2}   & ...           & b_{m+1, m+n}  \\\\\n",
    "0        & ...       & 0            & 0              & 0              & ...            & 0             \\\\\n",
    ".        & ...       & .            & .              & .              & ...            & .             \\\\\n",
    ".        & ...       & .            & .              & .              & ...            & .             \\\\\n",
    ".        & ...       & .            & .              & .              & ...            & .             \\\\\n",
    "0        & ...       & 0            & 0              & 0              & ...            & 0             \\\\\n",
    "\\end{bmatrix} $$\n",
    "$$\\text{其中J为m阶非零方阵，正对角线上全为0，其他元素全为非0，形式如下：}$$\n",
    "$$ J = \\begin{bmatrix}\n",
    "0          & b_{1, 2}        & ...       & b_{1, m-1}      & b_{1, m}\\\\\n",
    "b_{2, 1}   &0                & ...       & b_{2, m-1}      & b_{2, m}\\\\\n",
    ".          & .               & ...       & .               & .\\\\\n",
    ".          & .               & ...       & .               & .\\\\\n",
    ".          & .               & ...       & .               & .\\\\\n",
    "b_{m-1, 1} & b_{m-1, 2}      & ...       & 0               & b_{m-1, m}\\\\\n",
    "b_{m, 1}   & b_{m, 2}        & ...       & b_{m, m-1}      & 0\\\\\n",
    "\\end{bmatrix} $$\n",
    "$$\\text{4：通过计算我们可以知道，BA = 0，根据矩阵性质可得：r(B) + r(A) ≤ n，所以r(A) ≤ n - r(B)}$$\n",
    "$$\\text{5：因为方阵B是非零m+n阶方阵，且方阵B从第m+2行到第m+n行所有元素为0，所以0 ＜ r(B) ＜ n}$$\n",
    "$$\\text{6：假设r(A) = n，则r(B) = 0，与步骤5中0 ＜ r(B) ＜ n矛盾，所以r(A) ＜ n}$$\n",
    "$$\\text{7：所以n阶方阵A为奇异矩阵}$$\n"
   ]
  },
  {
   "cell_type": "markdown",
   "metadata": {},
   "source": [
    "---\n",
    "\n",
    "# 3 线性回归: \n",
    "\n",
    "## 3.1 计算损失函数相对于参数的导数 (两个3.1 选做其一)\n",
    "\n",
    "我们定义损失函数 $E$ ：\n",
    "$$\n",
    "E = \\sum_{i=1}^{n}{(y_i - mx_i - b)^2}\n",
    "$$\n",
    "定义向量$Y$, 矩阵$X$ 和向量$h$ :\n",
    "$$\n",
    "Y =  \\begin{bmatrix}\n",
    "    y_1 \\\\\n",
    "    y_2 \\\\\n",
    "    ... \\\\\n",
    "    y_n\n",
    "\\end{bmatrix}\n",
    ",\n",
    "X =  \\begin{bmatrix}\n",
    "    x_1 & 1 \\\\\n",
    "    x_2 & 1\\\\\n",
    "    ... & ...\\\\\n",
    "    x_n & 1 \\\\\n",
    "\\end{bmatrix},\n",
    "h =  \\begin{bmatrix}\n",
    "    m \\\\\n",
    "    b \\\\\n",
    "\\end{bmatrix}\n",
    "$$\n",
    "\n",
    "证明：\n",
    "$$\n",
    "\\frac{\\partial E}{\\partial m} = \\sum_{i=1}^{n}{-2x_i(y_i - mx_i - b)}\n",
    "$$\n",
    "\n",
    "$$\n",
    "\\frac{\\partial E}{\\partial b} = \\sum_{i=1}^{n}{-2(y_i - mx_i - b)}\n",
    "$$\n",
    "\n",
    "$$\n",
    "\\begin{bmatrix}\n",
    "    \\frac{\\partial E}{\\partial m} \\\\\n",
    "    \\frac{\\partial E}{\\partial b} \n",
    "\\end{bmatrix} = 2X^TXh - 2X^TY\n",
    "$$"
   ]
  },
  {
   "cell_type": "markdown",
   "metadata": {},
   "source": [
    "TODO 证明："
   ]
  },
  {
   "cell_type": "code",
   "execution_count": 21,
   "metadata": {},
   "outputs": [
    {
     "data": {
      "text/latex": [
       "\n",
       "$$\\\\$$\n",
       "\n",
       "$$\n",
       "\\text{变换后的 }X^T\\text{为： }\n",
       "$$\n",
       "\n",
       "$$\n",
       "X^T =  \\begin{bmatrix}\n",
       "x_1 & x_2 & ... & x_n\\\\\n",
       "1 & 1 & ... & 1\\\\\n",
       "\\end{bmatrix}\n",
       "$$\n",
       "\n",
       "$$\\\\$$\n",
       "\n",
       "$$ \n",
       "\\text{已知： }\n",
       "Y =  \\begin{bmatrix}\n",
       "y_1 \\\\\n",
       "y_2 \\\\\n",
       "... \\\\\n",
       "y_n\n",
       "\\end{bmatrix}\n",
       ",\n",
       "X =  \\begin{bmatrix}\n",
       "x_1 & 1 \\\\\n",
       "x_2 & 1\\\\\n",
       "... & ...\\\\\n",
       "x_n & 1 \\\\\n",
       "\\end{bmatrix},\n",
       "h =  \\begin{bmatrix}\n",
       "m \\\\\n",
       "b \\\\\n",
       "\\end{bmatrix}\n",
       "$$\n",
       "\n",
       "$$\n",
       "\\text{推导出 }\\text{： }\n",
       "$$\n",
       "\n",
       "$$\n",
       "2X^TXh - 2X^TY = -2X^T(Y-Xh)\n",
       "$$\n",
       "\n",
       "\n",
       "$$\\\\$$\n",
       "\n",
       "$$\n",
       "Y-Xh = \\begin{bmatrix}\n",
       "y_1 - mx_1 - b \\\\\n",
       "y_2 - mx_2 - b \\\\\n",
       "... \\\\\n",
       "y_n - mx_n - b \\\\\n",
       "\\end{bmatrix}\n",
       "$$\n",
       "\n",
       "\n",
       "\n",
       "\n",
       "$$\n",
       "\\text{所以 }\\text{： }\n",
       "$$\n",
       "\n",
       "$$\n",
       "2X^TXh - 2X^TY = -2X^T\\begin{bmatrix}\n",
       "y_1 - mx_1 - b \\\\\n",
       "y_2 - mx_2 - b \\\\\n",
       "... \\\\\n",
       "y_n - mx_n - b \\\\\n",
       "\\end{bmatrix} = \\begin{bmatrix}\n",
       "\\sum_{i=1}^{n}{-2x_i(y_i - mx_i - b)} \\\\\n",
       "\\sum_{i=1}^{n}{-2(y_i - mx_i - b)}\n",
       "\\end{bmatrix}\n",
       "$$\n",
       "\n",
       "$$\n",
       "\\text{然后对定义的损失函数(E)求m、b的偏导 }\\text{： }\n",
       "$$\n",
       "\n",
       "\n",
       "$$\n",
       "\\frac{\\partial E}{\\partial m} = \\sum_{i=1}^{n}{2(y_i - mx_i - b)\\frac{\\partial {(y_i - mx_i - b)}}{\\partial m}} $$\n",
       "$$= \\sum_{i=1}^{n}{2(y_i - mx_i - b)(-x_i)} $$\n",
       "$$= \\sum_{i=1}^{n}{-2x_i(y_i - mx_i - b)}\n",
       "$$\n",
       "\n",
       "\n",
       "$$\n",
       "\\frac{\\partial E}{\\partial b} = \\sum_{i=1}^{n}{2(y_i - mx_i - b) \\frac{\\partial {(y_i - mx_i - b)}}{\\partial b}} $$\n",
       "$$= \\sum_{i=1}^{n}{2(y_i - mx_i - b)(-1)} $$\n",
       "$$= \\sum_{i=1}^{n}{-2(y_i - mx_i - b)}\n",
       "$$\n",
       "\n",
       "\n",
       "$$\\\\$$\n",
       "$$\\\\$$\n",
       "\n",
       "$$\n",
       "\\text{综上所述 }\\text{： }\n",
       "$$\n",
       "\n",
       "\n",
       "$$\n",
       "\\frac{\\partial E}{\\partial m} = \\sum_{i=1}^{n}{-2x_i(y_i - mx_i - b)}\n",
       "$$\n",
       "\n",
       "$$\n",
       "\\frac{\\partial E}{\\partial b} = \\sum_{i=1}^{n}{-2(y_i - mx_i - b)}\n",
       "$$\n",
       "\n",
       "\n",
       "\n",
       "$$\n",
       "\\begin{bmatrix}\n",
       "\\frac{\\partial E}{\\partial m} \\\\\n",
       "\\frac{\\partial E}{\\partial b} \n",
       "\\end{bmatrix} = 2X^TXh - 2X^TY\n",
       "$$"
      ],
      "text/plain": [
       "<IPython.core.display.Latex object>"
      ]
     },
     "metadata": {},
     "output_type": "display_data"
    }
   ],
   "source": [
    "%%latex\n",
    "\n",
    "$$\\\\$$\n",
    "\n",
    "$$\n",
    "\\text{变换后的 }X^T\\text{为： }\n",
    "$$\n",
    "\n",
    "$$\n",
    "X^T =  \\begin{bmatrix}\n",
    "x_1 & x_2 & ... & x_n\\\\\n",
    "1 & 1 & ... & 1\\\\\n",
    "\\end{bmatrix}\n",
    "$$\n",
    "\n",
    "$$\\\\$$\n",
    "\n",
    "$$ \n",
    "\\text{已知： }\n",
    "Y =  \\begin{bmatrix}\n",
    "y_1 \\\\\n",
    "y_2 \\\\\n",
    "... \\\\\n",
    "y_n\n",
    "\\end{bmatrix}\n",
    ",\n",
    "X =  \\begin{bmatrix}\n",
    "x_1 & 1 \\\\\n",
    "x_2 & 1\\\\\n",
    "... & ...\\\\\n",
    "x_n & 1 \\\\\n",
    "\\end{bmatrix},\n",
    "h =  \\begin{bmatrix}\n",
    "m \\\\\n",
    "b \\\\\n",
    "\\end{bmatrix}\n",
    "$$\n",
    "\n",
    "$$\n",
    "\\text{推导出 }\\text{： }\n",
    "$$\n",
    "\n",
    "$$\n",
    "2X^TXh - 2X^TY = -2X^T(Y-Xh)\n",
    "$$\n",
    "\n",
    "\n",
    "$$\\\\$$\n",
    "\n",
    "$$\n",
    "Y-Xh = \\begin{bmatrix}\n",
    "y_1 - mx_1 - b \\\\\n",
    "y_2 - mx_2 - b \\\\\n",
    "... \\\\\n",
    "y_n - mx_n - b \\\\\n",
    "\\end{bmatrix}\n",
    "$$\n",
    "\n",
    "\n",
    "\n",
    "\n",
    "$$\n",
    "\\text{所以 }\\text{： }\n",
    "$$\n",
    "\n",
    "$$\n",
    "2X^TXh - 2X^TY = -2X^T\\begin{bmatrix}\n",
    "y_1 - mx_1 - b \\\\\n",
    "y_2 - mx_2 - b \\\\\n",
    "... \\\\\n",
    "y_n - mx_n - b \\\\\n",
    "\\end{bmatrix} = \\begin{bmatrix}\n",
    "\\sum_{i=1}^{n}{-2x_i(y_i - mx_i - b)} \\\\\n",
    "\\sum_{i=1}^{n}{-2(y_i - mx_i - b)}\n",
    "\\end{bmatrix}\n",
    "$$\n",
    "\n",
    "$$\n",
    "\\text{然后对定义的损失函数(E)求m、b的偏导 }\\text{： }\n",
    "$$\n",
    "\n",
    "\n",
    "$$\n",
    "\\frac{\\partial E}{\\partial m} = \\sum_{i=1}^{n}{2(y_i - mx_i - b)\\frac{\\partial {(y_i - mx_i - b)}}{\\partial m}} $$\n",
    "$$= \\sum_{i=1}^{n}{2(y_i - mx_i - b)(-x_i)} $$\n",
    "$$= \\sum_{i=1}^{n}{-2x_i(y_i - mx_i - b)}\n",
    "$$\n",
    "\n",
    "\n",
    "$$\n",
    "\\frac{\\partial E}{\\partial b} = \\sum_{i=1}^{n}{2(y_i - mx_i - b) \\frac{\\partial {(y_i - mx_i - b)}}{\\partial b}} $$\n",
    "$$= \\sum_{i=1}^{n}{2(y_i - mx_i - b)(-1)} $$\n",
    "$$= \\sum_{i=1}^{n}{-2(y_i - mx_i - b)}\n",
    "$$\n",
    "\n",
    "\n",
    "$$\\\\$$\n",
    "$$\\\\$$\n",
    "\n",
    "$$\n",
    "\\text{综上所述 }\\text{： }\n",
    "$$\n",
    "\n",
    "\n",
    "$$\n",
    "\\frac{\\partial E}{\\partial m} = \\sum_{i=1}^{n}{-2x_i(y_i - mx_i - b)}\n",
    "$$\n",
    "\n",
    "$$\n",
    "\\frac{\\partial E}{\\partial b} = \\sum_{i=1}^{n}{-2(y_i - mx_i - b)}\n",
    "$$\n",
    "\n",
    "\n",
    "\n",
    "$$\n",
    "\\begin{bmatrix}\n",
    "\\frac{\\partial E}{\\partial m} \\\\\n",
    "\\frac{\\partial E}{\\partial b} \n",
    "\\end{bmatrix} = 2X^TXh - 2X^TY\n",
    "$$"
   ]
  },
  {
   "cell_type": "markdown",
   "metadata": {},
   "source": [
    "## 3.1 计算损失函数相对于参数的导数（两个3.1 选做其一）\n",
    "\n",
    "我们定义损失函数 $E$ ：\n",
    "$$\n",
    "E = \\sum_{i=1}^{n}{(y_i - mx_i - b)^2}\n",
    "$$\n",
    "定义向量$Y$, 矩阵$X$ 和向量$h$ :\n",
    "$$\n",
    "Y =  \\begin{bmatrix}\n",
    "    y_1 \\\\\n",
    "    y_2 \\\\\n",
    "    ... \\\\\n",
    "    y_n\n",
    "\\end{bmatrix}\n",
    ",\n",
    "X =  \\begin{bmatrix}\n",
    "    x_1 & 1 \\\\\n",
    "    x_2 & 1\\\\\n",
    "    ... & ...\\\\\n",
    "    x_n & 1 \\\\\n",
    "\\end{bmatrix},\n",
    "h =  \\begin{bmatrix}\n",
    "    m \\\\\n",
    "    b \\\\\n",
    "\\end{bmatrix}\n",
    "$$\n",
    "\n",
    "证明：\n",
    "\n",
    "$$\n",
    "E = Y^TY -2(Xh)^TY + (Xh)^TXh\n",
    "$$ \n",
    "\n",
    "$$\n",
    "\\begin{bmatrix}\n",
    "    \\frac{\\partial E}{\\partial m} \\\\\n",
    "    \\frac{\\partial E}{\\partial b} \n",
    "\\end{bmatrix}  = \\frac{\\partial E}{\\partial h} = 2X^TXh - 2X^TY\n",
    "$$"
   ]
  },
  {
   "cell_type": "markdown",
   "metadata": {},
   "source": [
    "TODO 请使用 latex （请参照题目的 latex 写法学习）\n",
    "\n",
    "TODO 证明："
   ]
  },
  {
   "cell_type": "markdown",
   "metadata": {},
   "source": [
    "## 3.2  线性回归\n",
    "\n",
    "### 求解方程 $X^TXh = X^TY $, 计算线性回归的最佳参数 h \n",
    "*如果你想更深入地了解Normal Equation是如何做线性回归的，可以看看MIT的线性代数公开课，相关内容在[投影矩阵与最小二乘](http://open.163.com/movie/2010/11/P/U/M6V0BQC4M_M6V2AOJPU.html)。*"
   ]
  },
  {
   "cell_type": "code",
   "execution_count": 22,
   "metadata": {
    "collapsed": true
   },
   "outputs": [],
   "source": [
    "# TODO 实现线性回归\n",
    "'''\n",
    "参数：(x,y) 二元组列表\n",
    "返回：m，b\n",
    "'''\n",
    "#线性回归方程\n",
    "def linearRegression(points):\n",
    "    # 构建 Ax = b 的线性方程\n",
    "    X = [[points[i][0], 1] for i in range(len(points))]\n",
    "   \n",
    "    Y = [[points[i][1]] for i in range(len(points))]\n",
    "\n",
    "    X_T = transpose(X)\n",
    "  \n",
    "    A = matxMultiply(X_T, X)\n",
    "    \n",
    "    b = matxMultiply(X_T, Y)\n",
    "   \n",
    "\n",
    "    #m, b = (i[0] for i in gj_Solve(A, b))\n",
    "    m, b = (i[0] for i in gj_Solve(A, b, decPts=4, epsilon=1.0e-16))\n",
    "    return m, b"
   ]
  },
  {
   "cell_type": "markdown",
   "metadata": {},
   "source": [
    "## 3.3 测试你的线性回归实现"
   ]
  },
  {
   "cell_type": "code",
   "execution_count": 23,
   "metadata": {},
   "outputs": [
    {
     "name": "stdout",
     "output_type": "stream",
     "text": [
      "构造100个线性函数上的点，加上适当的高斯噪音，均值为0方差为1\n",
      "对这100个点进行线性回归，将线性回归得到的函数和原线性函数比较\n",
      "原始m, b \n",
      "2 3\n",
      "处理后的m, b\n",
      "1.9830153471 2.78734340459\n",
      "备注：此为x和y都增加高斯噪音的数据，根据需要可以不加x的高斯噪音\n"
     ]
    }
   ],
   "source": [
    "# TODO 构造线性函数\n",
    "\n",
    "# 构造线性函数\n",
    "\n",
    "m = 2\n",
    "b = 3\n",
    "\n",
    "# TODO 构造 100 个线性函数上的点，加上适当的高斯噪音\n",
    "\n",
    "print '构造100个线性函数上的点，加上适当的高斯噪音，均值为0方差为1'\n",
    "\n",
    "import random\n",
    "\n",
    "x_origin = [random.uniform(-50,50) for i in range(100)]\n",
    "Y_origin = [i * m + b for i in x_origin]\n",
    "\n",
    "x_gauss = [random.gauss(0, 1) for i in range(100)]\n",
    "y_gauss = [random.gauss(0, 1) for i in range(100)]\n",
    "\n",
    "xx = [x + y for x,y in zip(x_origin, x_gauss)]\n",
    "yy = [x + y for x,y in zip(Y_origin, y_gauss)]\n",
    "\n",
    "points = [(x,y) for x,y in zip(xx, yy)]\n",
    "\n",
    "#TODO 对这100个点进行线性回归，将线性回归得到的函数和原线性函数比较\n",
    "\n",
    "print '对这100个点进行线性回归，将线性回归得到的函数和原线性函数比较'\n",
    "\n",
    "m_gauss, b_gauss = linearRegression(points)\n",
    "\n",
    "print '原始m, b '\n",
    "print m, b\n",
    "\n",
    "print '处理后的m, b'\n",
    "print m_gauss, b_gauss\n",
    "\n",
    "print '备注：此为x和y都增加高斯噪音的数据，根据需要可以不加x的高斯噪音'"
   ]
  }
 ],
 "metadata": {
  "anaconda-cloud": {},
  "celltoolbar": "Raw Cell Format",
  "kernelspec": {
   "display_name": "Python 2",
   "language": "python",
   "name": "python2"
  },
  "language_info": {
   "codemirror_mode": {
    "name": "ipython",
    "version": 2
   },
   "file_extension": ".py",
   "mimetype": "text/x-python",
   "name": "python",
   "nbconvert_exporter": "python",
   "pygments_lexer": "ipython2",
   "version": "2.7.13"
  }
 },
 "nbformat": 4,
 "nbformat_minor": 2
}
