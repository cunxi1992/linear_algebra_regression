{
 "cells": [
  {
   "cell_type": "code",
   "execution_count": 1,
   "metadata": {
    "collapsed": true
   },
   "outputs": [],
   "source": [
    "# 任意选一个你喜欢的整数，这能帮你得到稳定的结果\n",
    "seed = 9999"
   ]
  },
  {
   "cell_type": "markdown",
   "metadata": {},
   "source": [
    "# 欢迎来到线性回归项目\n",
    "\n",
    "若项目中的题目有困难没完成也没关系，我们鼓励你带着问题提交项目，评审人会给予你诸多帮助。\n",
    "\n",
    "所有选做题都可以不做，不影响项目通过。如果你做了，那么项目评审会帮你批改，也会因为选做部分做错而判定为不通过。\n",
    "\n",
    "其中非代码题可以提交手写后扫描的 pdf 文件，或使用 Latex 在文档中直接回答。"
   ]
  },
  {
   "cell_type": "markdown",
   "metadata": {},
   "source": [
    "# 1 矩阵运算\n",
    "\n",
    "## 1.1 创建一个 4*4 的单位矩阵"
   ]
  },
  {
   "cell_type": "code",
   "execution_count": 2,
   "metadata": {},
   "outputs": [
    {
     "name": "stdout",
     "output_type": "stream",
     "text": [
      "创建的单位矩阵：[[1, 0, 0, 0], [0, 1, 0, 0], [0, 0, 1, 0], [0, 0, 0, 1]]\n"
     ]
    }
   ],
   "source": [
    "# 这个项目设计来帮你熟悉 python list 和线性代数\n",
    "# 你不能调用任何NumPy以及相关的科学计算库来完成作业\n",
    "\n",
    "\n",
    "# 本项目要求矩阵统一使用二维列表表示，如下：\n",
    "A = [[1,2,3], \n",
    "     [2,3,3], \n",
    "     [1,2,5]]\n",
    "\n",
    "B = [[1,2,3,5], \n",
    "     [2,3,3,5], \n",
    "     [1,2,5,1]]\n",
    "\n",
    "#TODO 创建一个 4*4 单位矩阵\n",
    "I =  [ [ 0 for i in range(4)] for j in range(4) ]\n",
    "for i in range(4):\n",
    "    for j in range(4):\n",
    "        if i==j:\n",
    "            I[i][j]=1\n",
    "\n",
    "# 打印出单位矩阵，查看一下是否正确\n",
    "print(\"创建的单位矩阵：{}\".format(I))"
   ]
  },
  {
   "cell_type": "markdown",
   "metadata": {},
   "source": [
    "## 1.2 返回矩阵的行数和列数"
   ]
  },
  {
   "cell_type": "code",
   "execution_count": 3,
   "metadata": {
    "collapsed": true
   },
   "outputs": [],
   "source": [
    "# TODO 返回矩阵的行数和列数\n",
    "def shape(M):\n",
    "    row = len(M)\n",
    "    column = len(M[0])\n",
    "    return row,column"
   ]
  },
  {
   "cell_type": "code",
   "execution_count": 4,
   "metadata": {},
   "outputs": [
    {
     "name": "stderr",
     "output_type": "stream",
     "text": [
      ".\n",
      "----------------------------------------------------------------------\n",
      "Ran 1 test in 0.002s\n",
      "\n",
      "OK\n"
     ]
    }
   ],
   "source": [
    "# 运行以下代码测试你的 shape 函数\n",
    "%run -i -e test.py LinearRegressionTestCase.test_shape"
   ]
  },
  {
   "cell_type": "markdown",
   "metadata": {},
   "source": [
    "## 1.3 每个元素四舍五入到特定小数数位"
   ]
  },
  {
   "cell_type": "code",
   "execution_count": 5,
   "metadata": {
    "collapsed": true
   },
   "outputs": [],
   "source": [
    "# TODO 每个元素四舍五入到特定小数数位\n",
    "# 直接修改参数矩阵，无返回值\n",
    "def matxRound(M, decPts=4):\n",
    "    for i in range(shape(M)[0]):\n",
    "        for j in range(shape(M)[1]):\n",
    "            M[i][j]=round(M[i][j],decPts)"
   ]
  },
  {
   "cell_type": "code",
   "execution_count": 6,
   "metadata": {},
   "outputs": [
    {
     "name": "stderr",
     "output_type": "stream",
     "text": [
      ".\n",
      "----------------------------------------------------------------------\n",
      "Ran 1 test in 0.006s\n",
      "\n",
      "OK\n"
     ]
    }
   ],
   "source": [
    "# 运行以下代码测试你的 matxRound 函数\n",
    "%run -i -e test.py LinearRegressionTestCase.test_matxRound"
   ]
  },
  {
   "cell_type": "markdown",
   "metadata": {},
   "source": [
    "## 1.4 计算矩阵的转置"
   ]
  },
  {
   "cell_type": "code",
   "execution_count": 7,
   "metadata": {
    "collapsed": true
   },
   "outputs": [],
   "source": [
    "# TODO 计算矩阵的转置\n",
    "def transpose(M):\n",
    "    return [list(col) for col in zip(*M)]"
   ]
  },
  {
   "cell_type": "code",
   "execution_count": 8,
   "metadata": {},
   "outputs": [
    {
     "name": "stderr",
     "output_type": "stream",
     "text": [
      ".\n",
      "----------------------------------------------------------------------\n",
      "Ran 1 test in 0.008s\n",
      "\n",
      "OK\n"
     ]
    }
   ],
   "source": [
    "# 运行以下代码测试你的 transpose 函数\n",
    "%run -i -e test.py LinearRegressionTestCase.test_transpose"
   ]
  },
  {
   "cell_type": "markdown",
   "metadata": {},
   "source": [
    "## 1.5 计算矩阵乘法 AB"
   ]
  },
  {
   "cell_type": "code",
   "execution_count": 9,
   "metadata": {},
   "outputs": [
    {
     "name": "stdout",
     "output_type": "stream",
     "text": [
      "A矩阵与B矩阵相乘为:[[8, 14, 24, 18], [11, 19, 30, 28], [10, 18, 34, 20]]\n"
     ]
    }
   ],
   "source": [
    "# TODO 计算矩阵乘法 AB，如果无法相乘则raise ValueError\n",
    "def matxMultiply(A, B):\n",
    "    try:\n",
    "        _, c = shape(A)\n",
    "        r, _ = shape(B)\n",
    "        if c != r :\n",
    "            raise ValueError\n",
    "        Bt = transpose(B)\n",
    "        result = [[sum((a*b) for a,b in zip(row,col)) for col in Bt] for row in A]\n",
    "        return result\n",
    "    except ValueError:\n",
    "        raise ValueError('这两个矩阵无法相乘')\n",
    "print (\"A矩阵与B矩阵相乘为:{}\".format(matxMultiply(A,B)))"
   ]
  },
  {
   "cell_type": "code",
   "execution_count": 10,
   "metadata": {},
   "outputs": [
    {
     "name": "stderr",
     "output_type": "stream",
     "text": [
      ".\n",
      "----------------------------------------------------------------------\n",
      "Ran 1 test in 0.044s\n",
      "\n",
      "OK\n"
     ]
    }
   ],
   "source": [
    "# 运行以下代码测试你的 matxMultiply 函数\n",
    "%run -i -e test.py LinearRegressionTestCase.test_matxMultiply"
   ]
  },
  {
   "cell_type": "markdown",
   "metadata": {},
   "source": [
    "---\n",
    "\n",
    "# 2 Gaussign Jordan 消元法\n",
    "\n",
    "## 2.1 构造增广矩阵\n",
    "\n",
    "$ A = \\begin{bmatrix}\n",
    "    a_{11}    & a_{12} & ... & a_{1n}\\\\\n",
    "    a_{21}    & a_{22} & ... & a_{2n}\\\\\n",
    "    a_{31}    & a_{22} & ... & a_{3n}\\\\\n",
    "    ...    & ... & ... & ...\\\\\n",
    "    a_{n1}    & a_{n2} & ... & a_{nn}\\\\\n",
    "\\end{bmatrix} , b = \\begin{bmatrix}\n",
    "    b_{1}  \\\\\n",
    "    b_{2}  \\\\\n",
    "    b_{3}  \\\\\n",
    "    ...    \\\\\n",
    "    b_{n}  \\\\\n",
    "\\end{bmatrix}$\n",
    "\n",
    "返回 $ Ab = \\begin{bmatrix}\n",
    "    a_{11}    & a_{12} & ... & a_{1n} & b_{1}\\\\\n",
    "    a_{21}    & a_{22} & ... & a_{2n} & b_{2}\\\\\n",
    "    a_{31}    & a_{22} & ... & a_{3n} & b_{3}\\\\\n",
    "    ...    & ... & ... & ...& ...\\\\\n",
    "    a_{n1}    & a_{n2} & ... & a_{nn} & b_{n} \\end{bmatrix}$"
   ]
  },
  {
   "cell_type": "code",
   "execution_count": 11,
   "metadata": {
    "collapsed": true
   },
   "outputs": [],
   "source": [
    "# TODO 构造增广矩阵，假设A，b行数相同\n",
    "def augmentMatrix(A, b):\n",
    "    return [ra + rb for ra,rb in zip(A,b)]"
   ]
  },
  {
   "cell_type": "code",
   "execution_count": 12,
   "metadata": {},
   "outputs": [
    {
     "name": "stderr",
     "output_type": "stream",
     "text": [
      ".\n",
      "----------------------------------------------------------------------\n",
      "Ran 1 test in 0.004s\n",
      "\n",
      "OK\n"
     ]
    }
   ],
   "source": [
    "# 运行以下代码测试你的 augmentMatrix 函数\n",
    "%run -i -e test.py LinearRegressionTestCase.test_augmentMatrix"
   ]
  },
  {
   "cell_type": "markdown",
   "metadata": {},
   "source": [
    "## 2.2 初等行变换\n",
    "- 交换两行\n",
    "- 把某行乘以一个非零常数\n",
    "- 把某行加上另一行的若干倍："
   ]
  },
  {
   "cell_type": "code",
   "execution_count": 13,
   "metadata": {
    "collapsed": true
   },
   "outputs": [],
   "source": [
    "# TODO r1 <---> r2\n",
    "# 直接修改参数矩阵，无返回值\n",
    "def swapRows(M, r1, r2):\n",
    "    M[r1],M[r2]=M[r2],M[r1]"
   ]
  },
  {
   "cell_type": "code",
   "execution_count": 14,
   "metadata": {},
   "outputs": [
    {
     "name": "stderr",
     "output_type": "stream",
     "text": [
      ".\n",
      "----------------------------------------------------------------------\n",
      "Ran 1 test in 0.003s\n",
      "\n",
      "OK\n"
     ]
    }
   ],
   "source": [
    "# 运行以下代码测试你的 swapRows 函数\n",
    "%run -i -e test.py LinearRegressionTestCase.test_swapRows"
   ]
  },
  {
   "cell_type": "code",
   "execution_count": 15,
   "metadata": {
    "collapsed": true
   },
   "outputs": [],
   "source": [
    "# TODO r1 <--- r1 * scale\n",
    "# scale为0是非法输入，要求 raise ValueError\n",
    "# 直接修改参数矩阵，无返回值\n",
    "def scaleRow(M, r, scale):\n",
    "    if scale==0:\n",
    "        raise ValueError('scale could not be zero!')\n",
    "    else:\n",
    "        for i in range(shape(M)[1]):\n",
    "            M[r][i]*=scale"
   ]
  },
  {
   "cell_type": "code",
   "execution_count": 16,
   "metadata": {},
   "outputs": [
    {
     "name": "stderr",
     "output_type": "stream",
     "text": [
      ".\n",
      "----------------------------------------------------------------------\n",
      "Ran 1 test in 0.002s\n",
      "\n",
      "OK\n"
     ]
    }
   ],
   "source": [
    "# 运行以下代码测试你的 scaleRow 函数\n",
    "%run -i -e test.py LinearRegressionTestCase.test_scaleRow"
   ]
  },
  {
   "cell_type": "code",
   "execution_count": 17,
   "metadata": {
    "collapsed": true
   },
   "outputs": [],
   "source": [
    "# TODO r1 <--- r1 + r2*scale\n",
    "# 直接修改参数矩阵，无返回值\n",
    "def addScaledRow(M, r1, r2, scale):\n",
    "    r=[ 0 for i in range(shape(M)[1]) ]\n",
    "    for i in range(shape(M)[1]):\n",
    "        r[i]=M[r2][i]*scale\n",
    "    for i in range(shape(M)[1]):\n",
    "        M[r1][i]+=r[i]"
   ]
  },
  {
   "cell_type": "code",
   "execution_count": 18,
   "metadata": {},
   "outputs": [
    {
     "name": "stderr",
     "output_type": "stream",
     "text": [
      ".\n",
      "----------------------------------------------------------------------\n",
      "Ran 1 test in 0.003s\n",
      "\n",
      "OK\n"
     ]
    }
   ],
   "source": [
    "# 运行以下代码测试你的 addScaledRow 函数\n",
    "%run -i -e test.py LinearRegressionTestCase.test_addScaledRow"
   ]
  },
  {
   "cell_type": "markdown",
   "metadata": {},
   "source": [
    "## 2.3  Gaussian Jordan 消元法求解 Ax = b"
   ]
  },
  {
   "cell_type": "markdown",
   "metadata": {},
   "source": [
    "### 2.3.1 算法\n",
    "\n",
    "步骤1 检查A，b是否行数相同\n",
    "\n",
    "步骤2 构造增广矩阵Ab\n",
    "\n",
    "步骤3 逐列转换Ab为化简行阶梯形矩阵 [中文维基链接](https://zh.wikipedia.org/wiki/%E9%98%B6%E6%A2%AF%E5%BD%A2%E7%9F%A9%E9%98%B5#.E5.8C.96.E7.AE.80.E5.90.8E.E7.9A.84-.7Bzh-hans:.E8.A1.8C.3B_zh-hant:.E5.88.97.3B.7D-.E9.98.B6.E6.A2.AF.E5.BD.A2.E7.9F.A9.E9.98.B5)\n",
    "    \n",
    "    对于Ab的每一列（最后一列除外）\n",
    "        当前列为列c\n",
    "        寻找列c中 对角线以及对角线以下所有元素（行 c~N）的绝对值的最大值\n",
    "        如果绝对值最大值为0\n",
    "            那么A为奇异矩阵，返回None (你可以在选做问题2.4中证明为什么这里A一定是奇异矩阵)\n",
    "        否则\n",
    "            使用第一个行变换，将绝对值最大值所在行交换到对角线元素所在行（行c） \n",
    "            使用第二个行变换，将列c的对角线元素缩放为1\n",
    "            多次使用第三个行变换，将列c的其他元素消为0\n",
    "            \n",
    "步骤4 返回Ab的最后一列\n",
    "\n",
    "**注：** 我们并没有按照常规方法先把矩阵转化为行阶梯形矩阵，再转换为化简行阶梯形矩阵，而是一步到位。如果你熟悉常规方法的话，可以思考一下两者的等价性。"
   ]
  },
  {
   "cell_type": "markdown",
   "metadata": {},
   "source": [
    "### 2.3.2 算法推演\n",
    "\n",
    "为了充分了解Gaussian Jordan消元法的计算流程，请根据Gaussian Jordan消元法，分别手动推演矩阵A为***可逆矩阵***，矩阵A为***奇异矩阵***两种情况。"
   ]
  },
  {
   "cell_type": "code",
   "execution_count": 19,
   "metadata": {},
   "outputs": [
    {
     "name": "stdout",
     "output_type": "stream",
     "text": [
      "   7,   5,   3,  -5 || 1   \n",
      "  -4,   6,   2,  -2 || 1   \n",
      "  -9,   4,  -5,   9 || 1   \n",
      "  -9, -10,   5,  -4 || 1   \n"
     ]
    }
   ],
   "source": [
    "# 不要修改这里！\n",
    "from helper import *\n",
    "\n",
    "A = generateMatrix(4,seed,singular=False)\n",
    "b = np.ones(shape=(4,1)) # it doesn't matter\n",
    "Ab = augmentMatrix(A.tolist(),b.tolist()) # please make sure you already correct implement augmentMatrix\n",
    "printInMatrixFormat(Ab,padding=4,truncating=0)"
   ]
  },
  {
   "cell_type": "markdown",
   "metadata": {},
   "source": [
    "请按照算法的步骤3，逐步推演***可逆矩阵***的变换。\n",
    "\n",
    "在下面列出每一次循环体执行之后的增广矩阵。\n",
    "\n",
    "要求：\n",
    "1. 做分数运算\n",
    "2. 使用`\\frac{n}{m}`来渲染分数，如下：\n",
    " - $\\frac{n}{m}$\n",
    " - $-\\frac{a}{b}$\n",
    "\n",
    "增广矩阵\n",
    "$ Ab = \\begin{bmatrix}\n",
    "    1 & \\frac{1}{2} & \\frac{9}{10} & \\frac{1}{5} & -\\frac{1}{10}\\\\\n",
    "    0 & \\frac{27}{2} & \\frac{141}{10} & \\frac{24}{5} & \\frac{1}{10}\\\\\n",
    "    0 & -1 & \\frac{78}{10} & -\\frac{13}{5} & \\frac{8}{10}\\\\\n",
    "    0 & 5 & \\frac{82}{10} & -\\frac{24}{5} &\\frac{2}{10}\\end{bmatrix}$\n",
    "\n",
    "$ --> \\begin{bmatrix}\n",
    "    1 & 0 & \\frac{75}{270} & \\frac{1}{45} & -\\frac{28}{270}\\\\\n",
    "    0 & 1 & \\frac{141}{135} & \\frac{16}{45} & \\frac{1}{135}\\\\\n",
    "    0 & 0 & \\frac{1194}{135} & -\\frac{85}{45} & \\frac{109}{135}\\\\\n",
    "    0 & 0 & \\frac{402}{135} & -\\frac{296}{45} & \\frac{22}{135}\\end{bmatrix}$\n",
    "    \n",
    "$ --> \\begin{bmatrix}\n",
    "    1 & 0 & 0 & \\frac{776}{179910} & -\\frac{44674}{161190}\\\\\n",
    "    0 & 1 & 0 & \\frac{478881}{179910} & -\\frac{67509}{161190}\\\\\n",
    "    0 & 0 & 1 & -\\frac{85}{389} & -\\frac{478881}{80595}\\\\\n",
    "    0 & 0 & 0 & -\\frac{478881}{80595} & \\frac{43796}{161190}\\end{bmatrix}$\n",
    "    \n",
    "$ --> \\begin{bmatrix}\n",
    "    1 & 0 & 0 & 0 & -\\frac{672367271}{3472687322550}\\\\\n",
    "    0 & 1 & 0 & 0 & \\frac{11133455}{3472687322550}\\\\\n",
    "    0 & 0 & 1 & 0 & \\frac{7741001198}{307219496992200}\\\\\n",
    "    0 & 0 & 0 & 1 & -\\frac{3529738620}{77170829390}\\end{bmatrix}$\n",
    "    \n",
    "$...$"
   ]
  },
  {
   "cell_type": "code",
   "execution_count": 20,
   "metadata": {},
   "outputs": [
    {
     "name": "stdout",
     "output_type": "stream",
     "text": [
      "  -7,  -3,   1,  -9 || 1   \n",
      "   0,   0,   0,   0 || 1   \n",
      "  -2,   7,   7,  -3 || 1   \n",
      "   8,  -5,  -6,   3 || 1   \n"
     ]
    }
   ],
   "source": [
    "# 不要修改这里！\n",
    "A = generateMatrix(4,seed,singular=True)\n",
    "b = np.ones(shape=(4,1)) # it doesn't matter\n",
    "Ab = augmentMatrix(A.tolist(),b.tolist()) # please make sure you already correct implement augmentMatrix\n",
    "printInMatrixFormat(Ab,padding=4,truncating=0)"
   ]
  },
  {
   "cell_type": "markdown",
   "metadata": {},
   "source": [
    "请按照算法的步骤3，逐步推演***奇异矩阵***的变换。\n",
    "\n",
    "在下面列出每一次循环体执行之后的增广矩阵。\n",
    "\n",
    "要求：\n",
    "1. 做分数运算\n",
    "2. 使用`\\frac{n}{m}`来渲染分数，如下：\n",
    " - $\\frac{n}{m}$\n",
    " - $-\\frac{a}{b}$\n",
    "\n",
    "增广矩阵\n",
    "$ Ab = \\begin{bmatrix}\n",
    "    1 & \\frac{3}{8}& \\frac{7}{8} & \\frac{9}{8} & \\frac{1}{8}\\\\\n",
    "    0 & -\\frac{45}{8}& -\\frac{25}{8} & \\frac{65}{8} & \\frac{9}{8}\\\\\n",
    "    0 & -\\frac{67}{8} & \\frac{65}{8} & \\frac{15}{8} & \\frac{7}{8}\\\\\n",
    "    0 & \\frac{33}{8} & -\\frac{75}{8} & -\\frac{27}{8} & \\frac{3}{8}\\end{bmatrix}$\n",
    "\n",
    "$ --> \\begin{bmatrix}\n",
    "    1 & 0 & \\frac{202}{536} & \\frac{54}{536} & \\frac{28}{536}\\\\\n",
    "    0 & 1 & -\\frac{65}{67} & -\\frac{15}{67} & -\\frac{7}{67}\\\\\n",
    "    0 & 0 & -\\frac{2950}{536} & \\frac{610}{536} & -\\frac{306}{536}\\\\\n",
    "    0 & 0 & \\frac{2070}{536} & \\frac{522}{536} & \\frac{234}{536}\\end{bmatrix}$\n",
    "    \n",
    "$ --> \\begin{bmatrix}\n",
    "    1 & 0 & 0 & 0 & 0\\\\\n",
    "    0 & 1 & 0 & 0 & 0\\\\\n",
    "    0 & 0 & 1 & 0 & 0\\\\\n",
    "    0 & 0 & 0 & 0 & 0\\end{bmatrix}$\n",
    "\n",
    "$ --> \\begin{bmatrix}\n",
    "    1 & 0 & 0 & 0 & \\frac{5650}{23600}\\\\\n",
    "    0 & 1 & 0 & 0 &  -\\frac{4410}{197650}\\\\\n",
    "    0 & 0 & 1 & -\\frac{610}{2950} & \\frac{306}{2950}\\\\\n",
    "    0 & 0 & 0 & 0 & 0\\end{bmatrix}$"
   ]
  },
  {
   "cell_type": "markdown",
   "metadata": {},
   "source": [
    "### 2.3.3 实现 Gaussian Jordan 消元法"
   ]
  },
  {
   "cell_type": "code",
   "execution_count": 21,
   "metadata": {
    "collapsed": true
   },
   "outputs": [],
   "source": [
    "# TODO 实现 Gaussain Jordan 方法求解 Ax = b\n",
    "\n",
    "\"\"\" Gaussian Jordan 方法求解 Ax = b.\n",
    "    参数\n",
    "        A: 方阵 \n",
    "        b: 列向量\n",
    "        decPts: 四舍五入位数，默认为4\n",
    "        epsilon: 判读是否为0的阈值，默认 1.0e-16\n",
    "        \n",
    "    返回列向量 x 使得 Ax = b \n",
    "    返回None，如果 A，b 高度不同\n",
    "    返回None，如果 A 为奇异矩阵\n",
    "\"\"\"\n",
    "\n",
    "def gj_Solve(A, b, decPts=4, epsilon = 1.0e-16):\n",
    "    # 检查 A，b 行数是否相同\n",
    "    if len(A) != len(b):\n",
    "        return None\n",
    "    else:\n",
    "        # 构造增广矩阵\n",
    "        Ab = augmentMatrix(A, b)\n",
    "        # 对Ab进行转置，方便遍历元素\n",
    "        Ab_T = transpose(Ab)\n",
    "        for index in range(len(Ab_T[0])):\n",
    "            Ab_T = transpose(Ab)\n",
    "            max_this_row = abs(Ab_T[index][index])\n",
    "            max_row_number = index\n",
    "            for index_2 in range(index, len(Ab_T[0])):\n",
    "                if abs(Ab_T[index][index_2]) > max_this_row:\n",
    "                    max_this_row = abs(Ab_T[index][index_2])\n",
    "                    # 记录当前绝对值最大值所在的行号,index_2是转置后该元素的列号，是原矩阵中的行号\n",
    "                    max_row_number = index_2\n",
    "            # 如果绝对值最大值为0，则A为奇异矩阵\n",
    "            if max_this_row <= epsilon:\n",
    "                return None\n",
    "            else:\n",
    "                # 使用第一个行变换，将绝对值最大值所在行交换到对角线元素所在行（行c）\n",
    "                swapRows(Ab, max_row_number, index)\n",
    "                # 使用第二个行变换，将列c的对角线元素缩放为1\n",
    "                scaleRow(Ab, index, 1.0/Ab[index][index])\n",
    "                # 多次使用第三个行变换，将列c的其他元素消为0\n",
    "                for index_3 in range(len(Ab_T[0])):\n",
    "                    if index_3 != index:\n",
    "                        addScaledRow(Ab, index_3, index, (-Ab[index_3][index])/Ab[index][index])\n",
    "        # 返回Ab的最后一列\n",
    "        Ab_last_col = [[] for i in range(len(Ab_T[0]))]\n",
    "        for index_4 in range(len(Ab_T[0])):\n",
    "            Ab_last_col[index_4].append(Ab[index_4][len(Ab_T[0])])\n",
    "        return Ab_last_col"
   ]
  },
  {
   "cell_type": "code",
   "execution_count": 22,
   "metadata": {},
   "outputs": [
    {
     "name": "stderr",
     "output_type": "stream",
     "text": [
      ".\n",
      "----------------------------------------------------------------------\n",
      "Ran 1 test in 3.120s\n",
      "\n",
      "OK\n"
     ]
    }
   ],
   "source": [
    "# 运行以下代码测试你的 gj_Solve 函数\n",
    "%run -i -e test.py LinearRegressionTestCase.test_gj_Solve"
   ]
  },
  {
   "cell_type": "markdown",
   "metadata": {},
   "source": [
    "## (选做) 2.4 算法正确判断了奇异矩阵：\n",
    "\n",
    "在算法的步骤3 中，如果发现某一列对角线和对角线以下所有元素都为0，那么则断定这个矩阵为奇异矩阵。\n",
    "\n",
    "我们用正式的语言描述这个命题，并证明为真。\n",
    "\n",
    "证明下面的命题：\n",
    "\n",
    "**如果方阵 A 可以被分为4个部分: ** \n",
    "\n",
    "$ A = \\begin{bmatrix}\n",
    "    I    & X \\\\\n",
    "    Z    & Y \\\\\n",
    "\\end{bmatrix} , \\text{其中 I 为单位矩阵，Z 为全0矩阵，Y 的第一列全0}$，\n",
    "\n",
    "**那么A为奇异矩阵。**\n",
    "\n",
    "提示：从多种角度都可以完成证明\n",
    "- 考虑矩阵 Y 和 矩阵 A 的秩\n",
    "- 考虑矩阵 Y 和 矩阵 A 的行列式\n",
    "- 考虑矩阵 A 的某一列是其他列的线性组合"
   ]
  },
  {
   "cell_type": "markdown",
   "metadata": {},
   "source": [
    "TODO 证明："
   ]
  },
  {
   "cell_type": "code",
   "execution_count": 23,
   "metadata": {},
   "outputs": [
    {
     "data": {
      "text/latex": [
       "$$\\text{1：设方阵A为m+n行m+n列的m+n阶方阵}$$\n",
       "$$\\text{2：根据题目中所给条件可知，方阵A的形式如下：}$$\n",
       "$$ A = \\begin{bmatrix}\n",
       "     &           &              & a_{1, m+1}     & a_{1, m+2}     & ...            & a_{1, m+n}  \\\\\n",
       "     &           &              & .              & .              & ...            & .            \\\\\n",
       "     & I         &              & .              & .              & ...            & .            \\\\\n",
       "     &           &              & .              & .              & ...            & .            \\\\\n",
       "     &           &              & a_{m, m+1}     & a_{m, m+2}     & ...            & a_{m, m+n}   \\\\\n",
       "0    & ...       & 0            & 0              & a_{m+1, m+2}   & ...            & a_{m+1, m+n} \\\\\n",
       "0    & ...       & 0            & 0              & a_{m+2, m+2}   & ...            & a_{m+2,m+n}  \\\\\n",
       ".    & ...       & .            & .              & .              & ...            & .             \\\\\n",
       ".    & ...       & .            & .              & .              & ...            & .             \\\\\n",
       ".    & ...       & .            & .              & .              & ...            & .             \\\\\n",
       "0    & ...       & 0            & 0              & a_{m+n, m+2}   & ...            & a_{m+n, m+n}  \\\\\n",
       "\\end{bmatrix} $$\n",
       "$$\\text{其中I为m阶单位阵，形式如下：}$$\n",
       "$$ I = \\begin{bmatrix}\n",
       "1          &0        & ...       & 0      & 0\\\\\n",
       "0          &1        & ...       & 0      & 0\\\\\n",
       ".          & .       & ...       & .      & .\\\\\n",
       ".          & .       & ...       & .      & .\\\\\n",
       ".          & .       & ...       & .      & .\\\\\n",
       "0          & 0       & ...       & 1      & 0\\\\\n",
       "0          & 0       & ...       & 0      & 1\\\\\n",
       "\\end{bmatrix} $$\n",
       "$$\\text{3：任取非零m+n阶方阵B如下：}$$\n",
       "$$ B = \\begin{bmatrix}\n",
       "         &           &              & b_{1, m+1}     & b_{1, m+2}     & ...           & b_{1, m+n}  \\\\\n",
       "         &           &              & .              & .              & ...            & .            \\\\\n",
       "         & J         &              & .              & .              & ...            & .            \\\\\n",
       "         &           &              & .              & .              & ...            & .            \\\\\n",
       "         &           &              & b_{m, m+1}     & b_{m, m+2}     & ...            & b_{m, m+n}   \\\\\n",
       "0        & ...       & 0            & b_{m+1, m+1}   & b_{m+1, m+2}   & ...           & b_{m+1, m+n}  \\\\\n",
       "0        & ...       & 0            & 0              & 0              & ...            & 0             \\\\\n",
       ".        & ...       & .            & .              & .              & ...            & .             \\\\\n",
       ".        & ...       & .            & .              & .              & ...            & .             \\\\\n",
       ".        & ...       & .            & .              & .              & ...            & .             \\\\\n",
       "0        & ...       & 0            & 0              & 0              & ...            & 0             \\\\\n",
       "\\end{bmatrix} $$\n",
       "$$\\text{其中J为m阶非零方阵，正对角线上全为0，其他元素全为非0，形式如下：}$$\n",
       "$$ J = \\begin{bmatrix}\n",
       "0          & b_{1, 2}        & ...       & b_{1, m-1}      & b_{1, m}\\\\\n",
       "b_{2, 1}   &0                & ...       & b_{2, m-1}      & b_{2, m}\\\\\n",
       ".          & .               & ...       & .               & .\\\\\n",
       ".          & .               & ...       & .               & .\\\\\n",
       ".          & .               & ...       & .               & .\\\\\n",
       "b_{m-1, 1} & b_{m-1, 2}      & ...       & 0               & b_{m-1, m}\\\\\n",
       "b_{m, 1}   & b_{m, 2}        & ...       & b_{m, m-1}      & 0\\\\\n",
       "\\end{bmatrix} $$\n",
       "$$\\text{4：通过计算我们可以知道，BA = 0，根据矩阵性质可得：r(B) + r(A) ≤ n，所以r(A) ≤ n - r(B)}$$\n",
       "$$\\text{5：因为方阵B是非零m+n阶方阵，且方阵B从第m+2行到第m+n行所有元素为0，所以0 ＜ r(B) ＜ n}$$\n",
       "$$\\text{6：假设r(A) = n，则r(B) = 0，与步骤5中0 ＜ r(B) ＜ n矛盾，所以r(A) ＜ n}$$\n",
       "$$\\text{7：所以n阶方阵A为奇异矩阵}$$"
      ],
      "text/plain": [
       "<IPython.core.display.Latex object>"
      ]
     },
     "metadata": {},
     "output_type": "display_data"
    }
   ],
   "source": [
    "%%latex\n",
    "$$\\text{1：设方阵A为m+n行m+n列的m+n阶方阵}$$\n",
    "$$\\text{2：根据题目中所给条件可知，方阵A的形式如下：}$$\n",
    "$$ A = \\begin{bmatrix}\n",
    "     &           &              & a_{1, m+1}     & a_{1, m+2}     & ...            & a_{1, m+n}  \\\\\n",
    "     &           &              & .              & .              & ...            & .            \\\\\n",
    "     & I         &              & .              & .              & ...            & .            \\\\\n",
    "     &           &              & .              & .              & ...            & .            \\\\\n",
    "     &           &              & a_{m, m+1}     & a_{m, m+2}     & ...            & a_{m, m+n}   \\\\\n",
    "0    & ...       & 0            & 0              & a_{m+1, m+2}   & ...            & a_{m+1, m+n} \\\\\n",
    "0    & ...       & 0            & 0              & a_{m+2, m+2}   & ...            & a_{m+2,m+n}  \\\\\n",
    ".    & ...       & .            & .              & .              & ...            & .             \\\\\n",
    ".    & ...       & .            & .              & .              & ...            & .             \\\\\n",
    ".    & ...       & .            & .              & .              & ...            & .             \\\\\n",
    "0    & ...       & 0            & 0              & a_{m+n, m+2}   & ...            & a_{m+n, m+n}  \\\\\n",
    "\\end{bmatrix} $$\n",
    "$$\\text{其中I为m阶单位阵，形式如下：}$$\n",
    "$$ I = \\begin{bmatrix}\n",
    "1          &0        & ...       & 0      & 0\\\\\n",
    "0          &1        & ...       & 0      & 0\\\\\n",
    ".          & .       & ...       & .      & .\\\\\n",
    ".          & .       & ...       & .      & .\\\\\n",
    ".          & .       & ...       & .      & .\\\\\n",
    "0          & 0       & ...       & 1      & 0\\\\\n",
    "0          & 0       & ...       & 0      & 1\\\\\n",
    "\\end{bmatrix} $$\n",
    "$$\\text{3：任取非零m+n阶方阵B如下：}$$\n",
    "$$ B = \\begin{bmatrix}\n",
    "         &           &              & b_{1, m+1}     & b_{1, m+2}     & ...           & b_{1, m+n}  \\\\\n",
    "         &           &              & .              & .              & ...            & .            \\\\\n",
    "         & J         &              & .              & .              & ...            & .            \\\\\n",
    "         &           &              & .              & .              & ...            & .            \\\\\n",
    "         &           &              & b_{m, m+1}     & b_{m, m+2}     & ...            & b_{m, m+n}   \\\\\n",
    "0        & ...       & 0            & b_{m+1, m+1}   & b_{m+1, m+2}   & ...           & b_{m+1, m+n}  \\\\\n",
    "0        & ...       & 0            & 0              & 0              & ...            & 0             \\\\\n",
    ".        & ...       & .            & .              & .              & ...            & .             \\\\\n",
    ".        & ...       & .            & .              & .              & ...            & .             \\\\\n",
    ".        & ...       & .            & .              & .              & ...            & .             \\\\\n",
    "0        & ...       & 0            & 0              & 0              & ...            & 0             \\\\\n",
    "\\end{bmatrix} $$\n",
    "$$\\text{其中J为m阶非零方阵，正对角线上全为0，其他元素全为非0，形式如下：}$$\n",
    "$$ J = \\begin{bmatrix}\n",
    "0          & b_{1, 2}        & ...       & b_{1, m-1}      & b_{1, m}\\\\\n",
    "b_{2, 1}   &0                & ...       & b_{2, m-1}      & b_{2, m}\\\\\n",
    ".          & .               & ...       & .               & .\\\\\n",
    ".          & .               & ...       & .               & .\\\\\n",
    ".          & .               & ...       & .               & .\\\\\n",
    "b_{m-1, 1} & b_{m-1, 2}      & ...       & 0               & b_{m-1, m}\\\\\n",
    "b_{m, 1}   & b_{m, 2}        & ...       & b_{m, m-1}      & 0\\\\\n",
    "\\end{bmatrix} $$\n",
    "$$\\text{4：通过计算我们可以知道，BA = 0，根据矩阵性质可得：r(B) + r(A) ≤ n，所以r(A) ≤ n - r(B)}$$\n",
    "$$\\text{5：因为方阵B是非零m+n阶方阵，且方阵B从第m+2行到第m+n行所有元素为0，所以0 ＜ r(B) ＜ n}$$\n",
    "$$\\text{6：假设r(A) = n，则r(B) = 0，与步骤5中0 ＜ r(B) ＜ n矛盾，所以r(A) ＜ n}$$\n",
    "$$\\text{7：所以n阶方阵A为奇异矩阵}$$\n"
   ]
  },
  {
   "cell_type": "markdown",
   "metadata": {},
   "source": [
    "# 3  线性回归"
   ]
  },
  {
   "cell_type": "markdown",
   "metadata": {},
   "source": [
    "## 3.1 随机生成样本点"
   ]
  },
  {
   "cell_type": "code",
   "execution_count": 24,
   "metadata": {},
   "outputs": [
    {
     "data": {
      "image/png": "[encoded data removed]",
      "text/plain": [
       "<matplotlib.figure.Figure at 0x109756780>"
      ]
     },
     "metadata": {},
     "output_type": "display_data"
    }
   ],
   "source": [
    "# 不要修改这里！\n",
    "# 运行一次就够了！\n",
    "from helper import *\n",
    "from matplotlib import pyplot as plt\n",
    "%matplotlib inline\n",
    "\n",
    "X,Y = generatePoints(num=100)\n",
    "\n",
    "## 可视化\n",
    "plt.xlim((-5,5))\n",
    "plt.xlabel('x',fontsize=18)\n",
    "plt.ylabel('y',fontsize=18)\n",
    "plt.scatter(X,Y,c='b')\n",
    "plt.show()"
   ]
  },
  {
   "cell_type": "markdown",
   "metadata": {},
   "source": [
    "## 3.2 拟合一条直线\n",
    "\n",
    "### 3.2.1 猜测一条直线"
   ]
  },
  {
   "cell_type": "code",
   "execution_count": 29,
   "metadata": {},
   "outputs": [
    {
     "data": {
      "image/png": "[encoded data removed]",
      "text/plain": [
       "<matplotlib.figure.Figure at 0x112dfa198>"
      ]
     },
     "metadata": {},
     "output_type": "display_data"
    }
   ],
   "source": [
    "#TODO 请选择最适合的直线 y = kx + b\n",
    "k = 3.3\n",
    "b = 11\n",
    "\n",
    "# 不要修改这里！\n",
    "plt.xlim((-5,5))\n",
    "x_vals = plt.axes().get_xlim()\n",
    "y_vals = [k*x+b for x in x_vals]\n",
    "plt.plot(x_vals, y_vals, '-', color='r')\n",
    "\n",
    "plt.xlabel('x',fontsize=18)\n",
    "plt.ylabel('y',fontsize=18)\n",
    "plt.scatter(X,Y,c='b')\n",
    "\n",
    "plt.show()"
   ]
  },
  {
   "cell_type": "markdown",
   "metadata": {},
   "source": [
    "### 3.2.2 计算平均平方误差 (MSE)"
   ]
  },
  {
   "cell_type": "markdown",
   "metadata": {
    "collapsed": true
   },
   "source": [
    "我们要编程计算所选直线的平均平方误差(MSE), 即数据集中每个点到直线的Y方向距离的平方的平均数，表达式如下：\n",
    "$$\n",
    "MSE = \\frac{1}{n}\\sum_{i=1}^{n}{(y_i - mx_i - b)^2}\n",
    "$$"
   ]
  },
  {
   "cell_type": "code",
   "execution_count": 30,
   "metadata": {},
   "outputs": [
    {
     "name": "stdout",
     "output_type": "stream",
     "text": [
      "1.0019240950901063\n"
     ]
    }
   ],
   "source": [
    "# TODO 实现以下函数并输出所选直线的MSE\n",
    "\n",
    "def calculateMSE(X,Y,m,b):\n",
    "    return sum([(y-m*x-b)**2 for x,y in zip(X,Y)])/len(X)\n",
    "        \n",
    "\n",
    "print(calculateMSE(X,Y,k,b))\n"
   ]
  },
  {
   "cell_type": "markdown",
   "metadata": {},
   "source": [
    "### 3.2.3 调整参数 $m, b$ 来获得最小的平方平均误差\n",
    "\n",
    "你可以调整3.2.1中的参数 $m,b$ 让蓝点均匀覆盖在红线周围，然后微调 $m, b$ 让MSE最小。"
   ]
  },
  {
   "cell_type": "markdown",
   "metadata": {},
   "source": [
    "## 3.3 (选做) 找到参数 $m, b$ 使得平方平均误差最小\n",
    "\n",
    "**这一部分需要简单的微积分知识(  $ (x^2)' = 2x $ )。因为这是一个线性代数项目，所以设为选做。**\n",
    "\n",
    "刚刚我们手动调节参数，尝试找到最小的平方平均误差。下面我们要精确得求解 $m, b$ 使得平方平均误差最小。\n",
    "\n",
    "定义目标函数 $E$ 为\n",
    "$$\n",
    "E = \\frac{1}{2}\\sum_{i=1}^{n}{(y_i - mx_i - b)^2}\n",
    "$$\n",
    "\n",
    "因为 $E = \\frac{n}{2}MSE$, 所以 $E$ 取到最小值时，$MSE$ 也取到最小值。要找到 $E$ 的最小值，即要找到 $m, b$ 使得 $E$ 相对于 $m$, $E$ 相对于 $b$ 的偏导数等于0. \n",
    "\n",
    "因此我们要解下面的方程组。\n",
    "\n",
    "$$\n",
    "\\begin{cases}\n",
    "\\displaystyle\n",
    "\\frac{\\partial E}{\\partial m} =0 \\\\\n",
    "\\\\\n",
    "\\displaystyle\n",
    "\\frac{\\partial E}{\\partial b} =0 \\\\\n",
    "\\end{cases}\n",
    "$$\n",
    "\n",
    "### 3.3.1 计算目标函数相对于参数的导数\n",
    "首先我们计算两个式子左边的值\n",
    "\n",
    "证明/计算：\n",
    "$$\n",
    "\\frac{\\partial E}{\\partial m} = \\sum_{i=1}^{n}{-x_i(y_i - mx_i - b)}\n",
    "$$\n",
    "\n",
    "$$\n",
    "\\frac{\\partial E}{\\partial b} = \\sum_{i=1}^{n}{-(y_i - mx_i - b)}\n",
    "$$"
   ]
  },
  {
   "cell_type": "markdown",
   "metadata": {},
   "source": [
    "TODO 证明:\n",
    "\n",
    "$$\n",
    "E = \\frac{1}{2}\\\\((y_1 - mx_1 - b)^2 + (y_1 - mx_1 - b)^2 + ... + (y_n - mx_n - b)^2 )\n",
    "$$\n",
    "\n",
    "$$\n",
    "\\frac{\\partial E}{\\partial m} = \\frac{1}{2}\\\\(-2x_1(y_1 - mx_1 - b) -2x_2(y_2 - mx_2 - b) + .... -2x_n(y_n - mx_n - b))\n",
    "$$\n",
    "\n",
    "$$\n",
    "\\frac{\\partial E}{\\partial m} = -x_1(y_1 - mx_1 - b) -x_2(y_2 - mx_2 - b) + .... -x_n(y_n - mx_n - b) = \\sum_{i=1}^{n}{-x_i(y_i - mx_i - b)}\n",
    "$$\n",
    "\n",
    "\n",
    "$$\n",
    "\\frac{\\partial E}{\\partial b} = \\frac{1}{2}\\\\(-2(y_1 - mx_1 - b) -2(y_2 - mx_2 - b) + .... -2(y_n - mx_n - b))\n",
    "$$\n",
    "\n",
    "$$\n",
    "\\frac{\\partial E}{\\partial b} = -(y_1 - mx_1 - b) -(y_2 - mx_2 - b) + .... -(y_n - mx_n - b) = \\sum_{i=1}^{n}{-(y_i - mx_i - b)}\n",
    "$$"
   ]
  },
  {
   "cell_type": "markdown",
   "metadata": {},
   "source": [
    "### 3.3.2 实例推演\n",
    "\n",
    "现在我们有了一个二元二次方程组\n",
    "\n",
    "$$\n",
    "\\begin{cases}\n",
    "\\displaystyle\n",
    "\\sum_{i=1}^{n}{-x_i(y_i - mx_i - b)} =0 \\\\\n",
    "\\\\\n",
    "\\displaystyle\n",
    "\\sum_{i=1}^{n}{-(y_i - mx_i - b)} =0 \\\\\n",
    "\\end{cases}\n",
    "$$\n",
    "\n",
    "为了加强理解，我们用一个实际例子演练。\n",
    "\n",
    "我们要用三个点 $(1,1), (2,2), (3,2)$ 来拟合一条直线 y = m*x + b, 请写出\n",
    "\n",
    "- 目标函数 $E$, \n",
    "- 二元二次方程组，\n",
    "- 并求解最优参数 $m, b$"
   ]
  },
  {
   "cell_type": "markdown",
   "metadata": {},
   "source": [
    "TODO 写出目标函数，方程组和最优参数\n",
    "\n",
    "$$\n",
    "E = \\frac{1}{2}\\sum_{i=1}^{n}{(y_i - mx_i - b)^2}\n",
    "$$\n",
    "\n",
    "根据\n",
    "\n",
    "$$\n",
    "\\begin{cases}\n",
    "\\displaystyle\n",
    "\\sum_{i=1}^{n}{-x_i(y_i - mx_i - b)} =0 \\\\\n",
    "\\\\\n",
    "\\displaystyle\n",
    "\\sum_{i=1}^{n}{-(y_i - mx_i - b)} =0 \\\\\n",
    "\\end{cases}\n",
    "$$可以求出m和b\n",
    "\n",
    "已知点$(1,1), (2,2), (3,2)$，第三个点带入到两个方程可以求出$m$和$b$\n",
    "\n",
    "$$\n",
    "\\begin{cases}\n",
    "\\displaystyle\n",
    "\\\\14m + 6b =11 \\\\\n",
    "\\\\\n",
    "\\displaystyle\n",
    "\\\\6m + 3b =5 \\\\\n",
    "\\end{cases}\n",
    "$$\n",
    "\n",
    "所以最优参数$m = 0.5$,$b = 0.67$"
   ]
  },
  {
   "cell_type": "markdown",
   "metadata": {},
   "source": [
    "### 3.3.3 将方程组写成矩阵形式\n",
    "\n",
    "我们的二元二次方程组可以用更简洁的矩阵形式表达，将方程组写成矩阵形式更有利于我们使用 Gaussian Jordan 消元法求解。\n",
    "\n",
    "请证明 \n",
    "$$\n",
    "\\begin{bmatrix}\n",
    "    \\frac{\\partial E}{\\partial m} \\\\\n",
    "    \\frac{\\partial E}{\\partial b} \n",
    "\\end{bmatrix} = X^TXh - X^TY\n",
    "$$\n",
    "\n",
    "其中向量 $Y$, 矩阵 $X$ 和 向量 $h$ 分别为 :\n",
    "$$\n",
    "Y =  \\begin{bmatrix}\n",
    "    y_1 \\\\\n",
    "    y_2 \\\\\n",
    "    ... \\\\\n",
    "    y_n\n",
    "\\end{bmatrix}\n",
    ",\n",
    "X =  \\begin{bmatrix}\n",
    "    x_1 & 1 \\\\\n",
    "    x_2 & 1\\\\\n",
    "    ... & ...\\\\\n",
    "    x_n & 1 \\\\\n",
    "\\end{bmatrix},\n",
    "h =  \\begin{bmatrix}\n",
    "    m \\\\\n",
    "    b \\\\\n",
    "\\end{bmatrix}\n",
    "$$"
   ]
  },
  {
   "cell_type": "markdown",
   "metadata": {},
   "source": [
    "TODO 证明:\n",
    "\n",
    "因为\n",
    "$$\n",
    "X =  \\begin{bmatrix}\n",
    "    x_1 & 1 \\\\\n",
    "    x_2 & 1\\\\\n",
    "    ... & ...\\\\\n",
    "    x_n & 1 \\\\\n",
    "\\end{bmatrix}\n",
    ",\n",
    "X^T = \\begin{bmatrix}\n",
    "    x_1 & x_2 & ....& x_n \\\\\n",
    "    1 & 1 & ....& 1\\\\\n",
    "\\end{bmatrix}\n",
    "$$\n",
    "\n",
    "$$\n",
    "X^TXh = \\begin{bmatrix}\n",
    "    \\sum_{i=1}^{n}{x_i^2} + \\sum_{i=1}^{n}{bx_i} \\\\\n",
    "    \\sum_{i=1}^{n}{mx_i} + nb \\\\\n",
    "\\end{bmatrix}\n",
    "$$\n",
    "\n",
    "$$\n",
    "X^TY = \\begin{bmatrix}\n",
    "    \\sum_{i=1}^{n}{x_iy_i} \\\\\n",
    "    \\sum_{i=1}^{n}{y_i} \\\\\n",
    "\\end{bmatrix}\n",
    "$$\n",
    "\n",
    "$$\n",
    "X^TXh - X^TY = \\begin{bmatrix}\n",
    "    \\sum_{i=1}^{n}{-x_i(y_i - mx_i - b)} \\\\\n",
    "    \\sum_{i=1}^{n}{-(y_i - mx_i - b)} \\\\\n",
    "\\end{bmatrix}\n",
    "$$\n",
    "\n",
    "由上面的结论知道：\n",
    "$$\n",
    "\\begin{cases}\n",
    "\\displaystyle\n",
    "\\sum_{i=1}^{n}{-x_i(y_i - mx_i - b)} =0 \\\\\n",
    "\\\\\n",
    "\\displaystyle\n",
    "\\sum_{i=1}^{n}{-(y_i - mx_i - b)} =0 \\\\\n",
    "\\end{cases}\n",
    "$$\n",
    "\n",
    "所以可以得出\n",
    "\n",
    "\n",
    "$$\n",
    "X^TXh - X^TY = \n",
    "\\begin{bmatrix}\n",
    "    \\frac{\\partial E}{\\partial m} \\\\\n",
    "    \\frac{\\partial E}{\\partial b} \n",
    "\\end{bmatrix}\n",
    "$$\n"
   ]
  },
  {
   "cell_type": "markdown",
   "metadata": {},
   "source": [
    "至此我们知道，通过求解方程 $X^TXh = X^TY$ 来找到最优参数。这个方程十分重要，他有一个名字叫做 **Normal Equation**，也有直观的几何意义。你可以在 [子空间投影](http://open.163.com/movie/2010/11/J/U/M6V0BQC4M_M6V2AJLJU.html) 和 [投影矩阵与最小二乘](http://open.163.com/movie/2010/11/P/U/M6V0BQC4M_M6V2AOJPU.html) 看到更多关于这个方程的内容。"
   ]
  },
  {
   "cell_type": "markdown",
   "metadata": {},
   "source": [
    "### 3.4 求解 $X^TXh = X^TY$ \n",
    "\n",
    "在3.3 中，我们知道线性回归问题等价于求解 $X^TXh = X^TY$ (如果你选择不做3.3，就勇敢的相信吧，哈哈)"
   ]
  },
  {
   "cell_type": "code",
   "execution_count": 37,
   "metadata": {},
   "outputs": [
    {
     "name": "stdout",
     "output_type": "stream",
     "text": [
      "3.2904194731753837 11.288607076936827\n"
     ]
    }
   ],
   "source": [
    "# TODO 实现线性回归\n",
    "'''\n",
    "参数：X, Y\n",
    "返回：m，b\n",
    "'''\n",
    "def linearRegression(X,Y):\n",
    "    # 高斯消元法求h\n",
    "    X_ = [[x,1] for x in X]\n",
    "    Y_ = [[y] for y in Y]\n",
    "    h=gj_Solve(matxMultiply(transpose(X_),X_),matxMultiply(transpose(X_),Y_))\n",
    "    return h[0][0],h[1][0]\n",
    "\n",
    "\n",
    "m,b = linearRegression(X,Y)\n",
    "print(m,b)"
   ]
  },
  {
   "cell_type": "markdown",
   "metadata": {},
   "source": [
    "你求得的回归结果是什么？\n",
    "请使用运行以下代码将它画出来。"
   ]
  },
  {
   "cell_type": "code",
   "execution_count": 38,
   "metadata": {},
   "outputs": [
    {
     "data": {
      "image/png": "[encoded data removed]",
      "text/plain": [
       "<matplotlib.figure.Figure at 0x113081eb8>"
      ]
     },
     "metadata": {},
     "output_type": "display_data"
    }
   ],
   "source": [
    "# 请不要修改下面的代码\n",
    "x1,x2 = -5,5\n",
    "y1,y2 = x1*m+b, x2*m+b\n",
    "\n",
    "plt.xlim((-5,5))\n",
    "plt.xlabel('x',fontsize=18)\n",
    "plt.ylabel('y',fontsize=18)\n",
    "plt.scatter(X,Y,c='b')\n",
    "plt.plot((x1,x2),(y1,y2),'r')\n",
    "plt.text(1,2,'y = {m}x + {b}'.format(m=round(m,3),b=round(b,3)))\n",
    "plt.show()"
   ]
  },
  {
   "cell_type": "markdown",
   "metadata": {},
   "source": [
    "你求得的回归结果对当前数据集的MSE是多少？"
   ]
  },
  {
   "cell_type": "code",
   "execution_count": 39,
   "metadata": {},
   "outputs": [
    {
     "name": "stdout",
     "output_type": "stream",
     "text": [
      "0.9156979289465917\n"
     ]
    }
   ],
   "source": [
    "print(calculateMSE(X,Y,m,b))"
   ]
  },
  {
   "cell_type": "markdown",
   "metadata": {},
   "source": [
    "**回归结果对当前数据集的MSE是:0.9157**"
   ]
  }
 ],
 "metadata": {
  "anaconda-cloud": {},
  "celltoolbar": "Raw Cell Format",
  "kernelspec": {
   "display_name": "Python 3",
   "language": "python",
   "name": "python3"
  },
  "language_info": {
   "codemirror_mode": {
    "name": "ipython",
    "version": 3
   },
   "file_extension": ".py",
   "mimetype": "text/x-python",
   "name": "python",
   "nbconvert_exporter": "python",
   "pygments_lexer": "ipython3",
   "version": "3.6.2"
  }
 },
 "nbformat": 4,
 "nbformat_minor": 2
}
